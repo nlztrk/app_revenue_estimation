{
 "cells": [
  {
   "cell_type": "markdown",
   "metadata": {},
   "source": [
    "## Importing necessary libs"
   ]
  },
  {
   "cell_type": "code",
   "execution_count": 1,
   "metadata": {},
   "outputs": [],
   "source": [
    "import pandas as pd\n",
    "import numpy as np\n",
    "import matplotlib.pyplot as plt\n",
    "import seaborn as sns\n",
    "from sklearn.metrics import accuracy_score, f1_score, confusion_matrix"
   ]
  },
  {
   "cell_type": "markdown",
   "metadata": {},
   "source": [
    "## Reading prediction file"
   ]
  },
  {
   "cell_type": "code",
   "execution_count": 2,
   "metadata": {},
   "outputs": [],
   "source": [
    "preds = pd.read_csv(\"predictions.csv\")"
   ]
  },
  {
   "cell_type": "markdown",
   "metadata": {},
   "source": [
    "## Binning revenue values into classes"
   ]
  },
  {
   "cell_type": "code",
   "execution_count": 3,
   "metadata": {},
   "outputs": [
    {
     "data": {
      "text/plain": [
       "[0, 0.1008922, 0.234601, 0.4699724, 7.4779154000000005]"
      ]
     },
     "execution_count": 3,
     "metadata": {},
     "output_type": "execute_result"
    }
   ],
   "source": [
    "truths = pd.read_csv(\"pruned_df.csv\")[\"totalrevenue\"]\n",
    "\n",
    "quantiles = [0.25, 0.5, 0.75, 1]\n",
    "\n",
    "valborders = [0]\n",
    "\n",
    "for i, q in enumerate(quantiles):\n",
    "    quantile = truths.quantile(q)\n",
    "    if i > 0:\n",
    "        quantile += 0.000001\n",
    "    valborders.append(quantile)\n",
    "        \n",
    "valborders"
   ]
  },
  {
   "cell_type": "markdown",
   "metadata": {},
   "source": [
    "## Assigning classes for predictions and ground truths"
   ]
  },
  {
   "cell_type": "code",
   "execution_count": 4,
   "metadata": {},
   "outputs": [],
   "source": [
    "labels = [1,2,3,4]\n",
    "\n",
    "preds['class'] = pd.cut(preds['Truth'], bins=valborders, labels=labels)\n",
    "preds['pred_class'] = pd.cut(preds['Prediction'], bins=valborders, labels=labels)"
   ]
  },
  {
   "cell_type": "code",
   "execution_count": 5,
   "metadata": {},
   "outputs": [
    {
     "data": {
      "text/html": [
       "<div>\n",
       "<style scoped>\n",
       "    .dataframe tbody tr th:only-of-type {\n",
       "        vertical-align: middle;\n",
       "    }\n",
       "\n",
       "    .dataframe tbody tr th {\n",
       "        vertical-align: top;\n",
       "    }\n",
       "\n",
       "    .dataframe thead th {\n",
       "        text-align: right;\n",
       "    }\n",
       "</style>\n",
       "<table border=\"1\" class=\"dataframe\">\n",
       "  <thead>\n",
       "    <tr style=\"text-align: right;\">\n",
       "      <th></th>\n",
       "      <th>Prediction</th>\n",
       "      <th>Truth</th>\n",
       "      <th>class</th>\n",
       "      <th>pred_class</th>\n",
       "    </tr>\n",
       "  </thead>\n",
       "  <tbody>\n",
       "    <tr>\n",
       "      <th>0</th>\n",
       "      <td>1.1491</td>\n",
       "      <td>1.0003</td>\n",
       "      <td>4</td>\n",
       "      <td>4</td>\n",
       "    </tr>\n",
       "    <tr>\n",
       "      <th>1</th>\n",
       "      <td>0.3365</td>\n",
       "      <td>0.5203</td>\n",
       "      <td>4</td>\n",
       "      <td>3</td>\n",
       "    </tr>\n",
       "    <tr>\n",
       "      <th>2</th>\n",
       "      <td>0.3127</td>\n",
       "      <td>0.8795</td>\n",
       "      <td>4</td>\n",
       "      <td>3</td>\n",
       "    </tr>\n",
       "    <tr>\n",
       "      <th>3</th>\n",
       "      <td>0.3313</td>\n",
       "      <td>0.4051</td>\n",
       "      <td>3</td>\n",
       "      <td>3</td>\n",
       "    </tr>\n",
       "    <tr>\n",
       "      <th>4</th>\n",
       "      <td>0.1322</td>\n",
       "      <td>0.3196</td>\n",
       "      <td>3</td>\n",
       "      <td>2</td>\n",
       "    </tr>\n",
       "  </tbody>\n",
       "</table>\n",
       "</div>"
      ],
      "text/plain": [
       "   Prediction   Truth class pred_class\n",
       "0      1.1491  1.0003     4          4\n",
       "1      0.3365  0.5203     4          3\n",
       "2      0.3127  0.8795     4          3\n",
       "3      0.3313  0.4051     3          3\n",
       "4      0.1322  0.3196     3          2"
      ]
     },
     "execution_count": 5,
     "metadata": {},
     "output_type": "execute_result"
    }
   ],
   "source": [
    "preds.head()"
   ]
  },
  {
   "cell_type": "markdown",
   "metadata": {},
   "source": [
    "# Accuracy"
   ]
  },
  {
   "cell_type": "code",
   "execution_count": 6,
   "metadata": {},
   "outputs": [
    {
     "name": "stdout",
     "output_type": "stream",
     "text": [
      "Model accuracy: 0.8313\n"
     ]
    }
   ],
   "source": [
    "acc = accuracy_score(preds['class'], preds['pred_class'])\n",
    "\n",
    "print(\"Model accuracy:\", np.round(acc,4))"
   ]
  },
  {
   "cell_type": "markdown",
   "metadata": {},
   "source": [
    "# F1-Score"
   ]
  },
  {
   "cell_type": "code",
   "execution_count": 7,
   "metadata": {},
   "outputs": [
    {
     "name": "stdout",
     "output_type": "stream",
     "text": [
      "Weighted F1 Score: 0.8303\n",
      "Macro F1 Score: 0.8308\n",
      "Micro F1 Score: 0.8313\n"
     ]
    }
   ],
   "source": [
    "print(\"Weighted F1 Score:\", np.round(f1_score(preds['class'], preds['pred_class'], average=\"weighted\"),4))\n",
    "print(\"Macro F1 Score:\", np.round(f1_score(preds['class'], preds['pred_class'], average=\"macro\"),4))\n",
    "print(\"Micro F1 Score:\", np.round(f1_score(preds['class'], preds['pred_class'], average=\"micro\"),4))"
   ]
  },
  {
   "cell_type": "markdown",
   "metadata": {},
   "source": [
    "# Confusion Matrix"
   ]
  },
  {
   "cell_type": "code",
   "execution_count": 8,
   "metadata": {},
   "outputs": [
    {
     "data": {
      "image/png": "[encoded data removed]",
      "text/plain": [
       "<Figure size 432x288 with 2 Axes>"
      ]
     },
     "metadata": {
      "needs_background": "light"
     },
     "output_type": "display_data"
    }
   ],
   "source": [
    "cf_matrix = confusion_matrix(preds['class'], preds['pred_class'])\n",
    "\n",
    "sns.heatmap(cf_matrix/np.sum(cf_matrix), annot=True, fmt='.2%', cmap='Blues')\n",
    "plt.title(\"Confusion Matrix\")\n",
    "_ = plt.plot()"
   ]
  }
 ],
 "metadata": {
  "kernelspec": {
   "display_name": "anadolu",
   "language": "python",
   "name": "anadolu"
  },
  "language_info": {
   "codemirror_mode": {
    "name": "ipython",
    "version": 3
   },
   "file_extension": ".py",
   "mimetype": "text/x-python",
   "name": "python",
   "nbconvert_exporter": "python",
   "pygments_lexer": "ipython3",
   "version": "3.7.9"
  }
 },
 "nbformat": 4,
 "nbformat_minor": 4
}
