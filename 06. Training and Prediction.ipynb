{
 "cells": [
  {
   "cell_type": "markdown",
   "metadata": {},
   "source": [
    "## Importing necessary libs"
   ]
  },
  {
   "cell_type": "code",
   "execution_count": 1,
   "metadata": {},
   "outputs": [],
   "source": [
    "import pandas as pd\n",
    "import numpy as np\n",
    "from sklearn.model_selection import train_test_split, cross_val_score\n",
    "\n",
    "from catboost import CatBoostRegressor\n",
    "\n",
    "from sklearn.model_selection import KFold\n",
    "\n",
    "import matplotlib.pyplot as plt\n",
    "import seaborn as sns"
   ]
  },
  {
   "cell_type": "markdown",
   "metadata": {},
   "source": [
    "## Preparing features and labels from pruned dataframe"
   ]
  },
  {
   "cell_type": "code",
   "execution_count": 2,
   "metadata": {},
   "outputs": [],
   "source": [
    "df = pd.read_csv(\"pruned_df.csv\")\n",
    "\n",
    "Xs = df.drop(\"totalrevenue\", 1)\n",
    "ys = df[\"totalrevenue\"]"
   ]
  },
  {
   "cell_type": "code",
   "execution_count": 3,
   "metadata": {},
   "outputs": [
    {
     "data": {
      "text/html": [
       "<div>\n",
       "<style scoped>\n",
       "    .dataframe tbody tr th:only-of-type {\n",
       "        vertical-align: middle;\n",
       "    }\n",
       "\n",
       "    .dataframe tbody tr th {\n",
       "        vertical-align: top;\n",
       "    }\n",
       "\n",
       "    .dataframe thead th {\n",
       "        text-align: right;\n",
       "    }\n",
       "</style>\n",
       "<table border=\"1\" class=\"dataframe\">\n",
       "  <thead>\n",
       "    <tr style=\"text-align: right;\">\n",
       "      <th></th>\n",
       "      <th>total_count_interstitial_impression</th>\n",
       "      <th>total_count_banner_impression</th>\n",
       "      <th>total_count_rewarded_impression</th>\n",
       "      <th>total_count_level_event</th>\n",
       "      <th>mean_revenue_interstitial_impression</th>\n",
       "      <th>last_time_interstitial_impression</th>\n",
       "      <th>mean_revenue_rewarded_impression</th>\n",
       "      <th>last_time_banner_impression</th>\n",
       "    </tr>\n",
       "  </thead>\n",
       "  <tbody>\n",
       "    <tr>\n",
       "      <th>0</th>\n",
       "      <td>1</td>\n",
       "      <td>6</td>\n",
       "      <td>0</td>\n",
       "      <td>7</td>\n",
       "      <td>0.030000</td>\n",
       "      <td>2.0</td>\n",
       "      <td>0.00</td>\n",
       "      <td>13.0</td>\n",
       "    </tr>\n",
       "    <tr>\n",
       "      <th>1</th>\n",
       "      <td>1</td>\n",
       "      <td>2</td>\n",
       "      <td>0</td>\n",
       "      <td>2</td>\n",
       "      <td>0.030000</td>\n",
       "      <td>0.0</td>\n",
       "      <td>0.00</td>\n",
       "      <td>0.0</td>\n",
       "    </tr>\n",
       "    <tr>\n",
       "      <th>2</th>\n",
       "      <td>30</td>\n",
       "      <td>118</td>\n",
       "      <td>2</td>\n",
       "      <td>76</td>\n",
       "      <td>0.027517</td>\n",
       "      <td>4076.0</td>\n",
       "      <td>0.04</td>\n",
       "      <td>4078.0</td>\n",
       "    </tr>\n",
       "    <tr>\n",
       "      <th>3</th>\n",
       "      <td>25</td>\n",
       "      <td>82</td>\n",
       "      <td>1</td>\n",
       "      <td>60</td>\n",
       "      <td>0.022920</td>\n",
       "      <td>5136.0</td>\n",
       "      <td>0.04</td>\n",
       "      <td>5137.0</td>\n",
       "    </tr>\n",
       "    <tr>\n",
       "      <th>4</th>\n",
       "      <td>5</td>\n",
       "      <td>16</td>\n",
       "      <td>0</td>\n",
       "      <td>18</td>\n",
       "      <td>0.030000</td>\n",
       "      <td>2035.0</td>\n",
       "      <td>0.00</td>\n",
       "      <td>2368.0</td>\n",
       "    </tr>\n",
       "  </tbody>\n",
       "</table>\n",
       "</div>"
      ],
      "text/plain": [
       "   total_count_interstitial_impression  total_count_banner_impression  \\\n",
       "0                                    1                              6   \n",
       "1                                    1                              2   \n",
       "2                                   30                            118   \n",
       "3                                   25                             82   \n",
       "4                                    5                             16   \n",
       "\n",
       "   total_count_rewarded_impression  total_count_level_event  \\\n",
       "0                                0                        7   \n",
       "1                                0                        2   \n",
       "2                                2                       76   \n",
       "3                                1                       60   \n",
       "4                                0                       18   \n",
       "\n",
       "   mean_revenue_interstitial_impression  last_time_interstitial_impression  \\\n",
       "0                              0.030000                                2.0   \n",
       "1                              0.030000                                0.0   \n",
       "2                              0.027517                             4076.0   \n",
       "3                              0.022920                             5136.0   \n",
       "4                              0.030000                             2035.0   \n",
       "\n",
       "   mean_revenue_rewarded_impression  last_time_banner_impression  \n",
       "0                              0.00                         13.0  \n",
       "1                              0.00                          0.0  \n",
       "2                              0.04                       4078.0  \n",
       "3                              0.04                       5137.0  \n",
       "4                              0.00                       2368.0  "
      ]
     },
     "execution_count": 3,
     "metadata": {},
     "output_type": "execute_result"
    }
   ],
   "source": [
    "Xs.head()"
   ]
  },
  {
   "cell_type": "code",
   "execution_count": 4,
   "metadata": {},
   "outputs": [
    {
     "data": {
      "text/plain": [
       "0    0.032400\n",
       "1    0.030750\n",
       "2    1.211006\n",
       "3    0.881707\n",
       "4    0.184700\n",
       "Name: totalrevenue, dtype: float64"
      ]
     },
     "execution_count": 4,
     "metadata": {},
     "output_type": "execute_result"
    }
   ],
   "source": [
    "ys.head()"
   ]
  },
  {
   "cell_type": "markdown",
   "metadata": {},
   "source": [
    "## Train-Test Splitting "
   ]
  },
  {
   "cell_type": "code",
   "execution_count": 5,
   "metadata": {},
   "outputs": [],
   "source": [
    "X_train, X_test, y_train, y_test = train_test_split(Xs, ys, test_size=0.2, random_state=1773)"
   ]
  },
  {
   "cell_type": "markdown",
   "metadata": {},
   "source": [
    "## Defining the Regressor\n",
    "\n",
    "I didn't tune the regressor again since that's time consuming for an experimental analysis like this."
   ]
  },
  {
   "cell_type": "code",
   "execution_count": 6,
   "metadata": {},
   "outputs": [],
   "source": [
    "clf = CatBoostRegressor(objective=\"MAPE\",\n",
    "                        task_type=\"CPU\")"
   ]
  },
  {
   "cell_type": "markdown",
   "metadata": {},
   "source": [
    "## Predicting with K-Fold CV"
   ]
  },
  {
   "cell_type": "code",
   "execution_count": 7,
   "metadata": {},
   "outputs": [
    {
     "name": "stdout",
     "output_type": "stream",
     "text": [
      "RESULTS >> Fold 1 || MAE: 0.078 || MAPE: 0.246\n",
      "RESULTS >> Fold 2 || MAE: 0.086 || MAPE: 0.24\n",
      "RESULTS >> Fold 3 || MAE: 0.084 || MAPE: 0.229\n",
      "RESULTS >> Fold 4 || MAE: 0.085 || MAPE: 0.203\n",
      "RESULTS >> Fold 5 || MAE: 0.078 || MAPE: 0.414\n"
     ]
    }
   ],
   "source": [
    "cv = KFold(n_splits=5, random_state=1773, shuffle=True)\n",
    "\n",
    "preds_for_subm = []\n",
    "\n",
    "mae_scores = []\n",
    "mape_scores = []\n",
    "feat_imps = []\n",
    "\n",
    "for fold_id, (train_ix, test_ix) in enumerate(cv.split(X_train, y=y_train)):\n",
    "\n",
    "    train_X, val_X = X_train.iloc[train_ix], X_train.iloc[test_ix]\n",
    "    train_y, val_y = y_train.iloc[train_ix], y_train.iloc[test_ix]\n",
    "    \n",
    "    clf.fit(train_X, train_y, eval_set=(val_X, val_y), early_stopping_rounds=150, verbose=False)\n",
    "    yhat = clf.predict(val_X)\n",
    "    \n",
    "    mae = abs(val_y - yhat).mean()\n",
    "    mae_scores.append(mae)\n",
    "    \n",
    "    mape = (abs(val_y - yhat)/val_y).mean()\n",
    "    mape_scores.append(mape)    \n",
    "    \n",
    "    yhat_subm = clf.predict(X_test)\n",
    "    preds_for_subm.append(yhat_subm)\n",
    "    \n",
    "    feat_imps.append(clf.get_feature_importance())\n",
    "    \n",
    "    print('RESULTS >> Fold', fold_id+1, \"|| MAE:\", np.round(mae,3), \"|| MAPE:\", np.round(mape,3))"
   ]
  },
  {
   "cell_type": "markdown",
   "metadata": {},
   "source": [
    "### CV Results"
   ]
  },
  {
   "cell_type": "code",
   "execution_count": 8,
   "metadata": {},
   "outputs": [
    {
     "name": "stdout",
     "output_type": "stream",
     "text": [
      "Mean MAE: 0.082, Standard Deviation: 0.004\n",
      "Mean MAPE: 0.267, Standard Deviation: 0.075\n"
     ]
    }
   ],
   "source": [
    "mean_mae, std_mae = np.mean(mae_scores), np.std(mae_scores)\n",
    "print('Mean MAE: %.3f, Standard Deviation: %.3f' % (mean_mae, std_mae))\n",
    "\n",
    "mean_mape, std_mape = np.mean(mape_scores), np.std(mape_scores)\n",
    "print('Mean MAPE: %.3f, Standard Deviation: %.3f' % (mean_mape, std_mape))"
   ]
  },
  {
   "cell_type": "markdown",
   "metadata": {},
   "source": [
    "# Test Set Scores"
   ]
  },
  {
   "cell_type": "code",
   "execution_count": 9,
   "metadata": {},
   "outputs": [],
   "source": [
    "preds_for_subm_arr = np.array(preds_for_subm)\n",
    "preds_for_subm_arr = preds_for_subm_arr.mean(axis=0)"
   ]
  },
  {
   "cell_type": "code",
   "execution_count": 10,
   "metadata": {},
   "outputs": [
    {
     "name": "stdout",
     "output_type": "stream",
     "text": [
      "Test MAE: 0.082\n",
      "Test MAPE: 0.203\n",
      "\n",
      "Test MAE-std: 0.172\n",
      "Test MAPE-std: 0.557\n"
     ]
    }
   ],
   "source": [
    "print(\"Test MAE:\", np.round(abs(y_test - preds_for_subm_arr).mean(),3))\n",
    "print(\"Test MAPE:\", np.round((abs(y_test - preds_for_subm_arr)/y_test).mean(),3))\n",
    "print()\n",
    "print(\"Test MAE-std:\", np.round(abs(y_test - preds_for_subm_arr).std(),3))\n",
    "print(\"Test MAPE-std:\", np.round((abs(y_test - preds_for_subm_arr)/y_test).std(),3))"
   ]
  },
  {
   "cell_type": "markdown",
   "metadata": {},
   "source": [
    "## Feature Importances"
   ]
  },
  {
   "cell_type": "code",
   "execution_count": 11,
   "metadata": {},
   "outputs": [],
   "source": [
    "def plot_feature_importance(importance,names,model_type):\n",
    "    \n",
    "    #Create arrays from feature importance and feature names\n",
    "    feature_importance = np.array(importance)\n",
    "    feature_names = np.array(names)\n",
    "    \n",
    "    #Create a DataFrame using a Dictionary\n",
    "    data={'feature_names':feature_names,'feature_importance':feature_importance}\n",
    "    fi_df = pd.DataFrame(data)\n",
    "    \n",
    "    #Sort the DataFrame in order decreasing feature importance\n",
    "    fi_df.sort_values(by=['feature_importance'], ascending=False,inplace=True)\n",
    "    \n",
    "    #Define size of bar plot\n",
    "    plt.figure(figsize=(10,8))\n",
    "    #Plot Searborn bar chart\n",
    "    sns.barplot(x=fi_df['feature_importance'], y=fi_df['feature_names'])\n",
    "    #Add chart labels\n",
    "    plt.title(model_type + ' Feature Importances')\n",
    "    plt.xlabel('Feature Importance')\n",
    "    plt.ylabel('Feature Name')"
   ]
  },
  {
   "cell_type": "code",
   "execution_count": 12,
   "metadata": {},
   "outputs": [],
   "source": [
    "feat_imps = np.array(feat_imps)\n",
    "mean_feat_imps = feat_imps.mean(axis=0)"
   ]
  },
  {
   "cell_type": "code",
   "execution_count": 13,
   "metadata": {},
   "outputs": [
    {
     "data": {
      "image/png": "[encoded data removed]",
      "text/plain": [
       "<Figure size 720x576 with 1 Axes>"
      ]
     },
     "metadata": {
      "needs_background": "light"
     },
     "output_type": "display_data"
    }
   ],
   "source": [
    "plot_feature_importance(mean_feat_imps,X_train.columns,'Catboost Regressor')"
   ]
  },
  {
   "cell_type": "markdown",
   "metadata": {},
   "source": [
    "## Brief looking at the predictions"
   ]
  },
  {
   "cell_type": "code",
   "execution_count": 14,
   "metadata": {},
   "outputs": [],
   "source": [
    "results = np.round(np.vstack([preds_for_subm_arr,y_test]),4)\n",
    "results_df = pd.DataFrame(columns=[\"Prediction\", \"Truth\"], data=results.T, index=range(len(results[0])))\n",
    "\n",
    "results_df.to_csv('predictions.csv', index=False) "
   ]
  },
  {
   "cell_type": "code",
   "execution_count": 15,
   "metadata": {},
   "outputs": [
    {
     "data": {
      "text/html": [
       "<div>\n",
       "<style scoped>\n",
       "    .dataframe tbody tr th:only-of-type {\n",
       "        vertical-align: middle;\n",
       "    }\n",
       "\n",
       "    .dataframe tbody tr th {\n",
       "        vertical-align: top;\n",
       "    }\n",
       "\n",
       "    .dataframe thead th {\n",
       "        text-align: right;\n",
       "    }\n",
       "</style>\n",
       "<table border=\"1\" class=\"dataframe\">\n",
       "  <thead>\n",
       "    <tr style=\"text-align: right;\">\n",
       "      <th></th>\n",
       "      <th>Prediction</th>\n",
       "      <th>Truth</th>\n",
       "    </tr>\n",
       "  </thead>\n",
       "  <tbody>\n",
       "    <tr>\n",
       "      <th>0</th>\n",
       "      <td>1.1491</td>\n",
       "      <td>1.0003</td>\n",
       "    </tr>\n",
       "    <tr>\n",
       "      <th>1</th>\n",
       "      <td>0.3365</td>\n",
       "      <td>0.5203</td>\n",
       "    </tr>\n",
       "    <tr>\n",
       "      <th>2</th>\n",
       "      <td>0.3127</td>\n",
       "      <td>0.8795</td>\n",
       "    </tr>\n",
       "    <tr>\n",
       "      <th>3</th>\n",
       "      <td>0.3313</td>\n",
       "      <td>0.4051</td>\n",
       "    </tr>\n",
       "    <tr>\n",
       "      <th>4</th>\n",
       "      <td>0.1322</td>\n",
       "      <td>0.3196</td>\n",
       "    </tr>\n",
       "    <tr>\n",
       "      <th>5</th>\n",
       "      <td>0.0511</td>\n",
       "      <td>0.0901</td>\n",
       "    </tr>\n",
       "    <tr>\n",
       "      <th>6</th>\n",
       "      <td>0.0310</td>\n",
       "      <td>0.0308</td>\n",
       "    </tr>\n",
       "    <tr>\n",
       "      <th>7</th>\n",
       "      <td>0.4606</td>\n",
       "      <td>0.4084</td>\n",
       "    </tr>\n",
       "    <tr>\n",
       "      <th>8</th>\n",
       "      <td>0.0868</td>\n",
       "      <td>0.2266</td>\n",
       "    </tr>\n",
       "    <tr>\n",
       "      <th>9</th>\n",
       "      <td>0.2504</td>\n",
       "      <td>0.2425</td>\n",
       "    </tr>\n",
       "    <tr>\n",
       "      <th>10</th>\n",
       "      <td>0.5827</td>\n",
       "      <td>1.2226</td>\n",
       "    </tr>\n",
       "    <tr>\n",
       "      <th>11</th>\n",
       "      <td>0.2960</td>\n",
       "      <td>0.2822</td>\n",
       "    </tr>\n",
       "    <tr>\n",
       "      <th>12</th>\n",
       "      <td>0.1537</td>\n",
       "      <td>0.1506</td>\n",
       "    </tr>\n",
       "    <tr>\n",
       "      <th>13</th>\n",
       "      <td>0.0832</td>\n",
       "      <td>0.0779</td>\n",
       "    </tr>\n",
       "    <tr>\n",
       "      <th>14</th>\n",
       "      <td>0.0657</td>\n",
       "      <td>0.0633</td>\n",
       "    </tr>\n",
       "    <tr>\n",
       "      <th>15</th>\n",
       "      <td>0.6934</td>\n",
       "      <td>0.7052</td>\n",
       "    </tr>\n",
       "    <tr>\n",
       "      <th>16</th>\n",
       "      <td>0.0319</td>\n",
       "      <td>0.0316</td>\n",
       "    </tr>\n",
       "    <tr>\n",
       "      <th>17</th>\n",
       "      <td>0.4376</td>\n",
       "      <td>1.4806</td>\n",
       "    </tr>\n",
       "    <tr>\n",
       "      <th>18</th>\n",
       "      <td>0.2138</td>\n",
       "      <td>0.2805</td>\n",
       "    </tr>\n",
       "    <tr>\n",
       "      <th>19</th>\n",
       "      <td>0.0991</td>\n",
       "      <td>0.0974</td>\n",
       "    </tr>\n",
       "    <tr>\n",
       "      <th>20</th>\n",
       "      <td>0.5453</td>\n",
       "      <td>0.5153</td>\n",
       "    </tr>\n",
       "    <tr>\n",
       "      <th>21</th>\n",
       "      <td>0.7337</td>\n",
       "      <td>0.8041</td>\n",
       "    </tr>\n",
       "    <tr>\n",
       "      <th>22</th>\n",
       "      <td>0.1258</td>\n",
       "      <td>0.6343</td>\n",
       "    </tr>\n",
       "    <tr>\n",
       "      <th>23</th>\n",
       "      <td>0.1416</td>\n",
       "      <td>0.1403</td>\n",
       "    </tr>\n",
       "    <tr>\n",
       "      <th>24</th>\n",
       "      <td>0.1027</td>\n",
       "      <td>0.1009</td>\n",
       "    </tr>\n",
       "    <tr>\n",
       "      <th>25</th>\n",
       "      <td>0.7449</td>\n",
       "      <td>0.7171</td>\n",
       "    </tr>\n",
       "    <tr>\n",
       "      <th>26</th>\n",
       "      <td>0.1270</td>\n",
       "      <td>0.0248</td>\n",
       "    </tr>\n",
       "    <tr>\n",
       "      <th>27</th>\n",
       "      <td>0.0475</td>\n",
       "      <td>0.0416</td>\n",
       "    </tr>\n",
       "    <tr>\n",
       "      <th>28</th>\n",
       "      <td>0.1647</td>\n",
       "      <td>0.1800</td>\n",
       "    </tr>\n",
       "    <tr>\n",
       "      <th>29</th>\n",
       "      <td>0.2014</td>\n",
       "      <td>0.1425</td>\n",
       "    </tr>\n",
       "    <tr>\n",
       "      <th>30</th>\n",
       "      <td>0.3200</td>\n",
       "      <td>0.3103</td>\n",
       "    </tr>\n",
       "    <tr>\n",
       "      <th>31</th>\n",
       "      <td>0.3115</td>\n",
       "      <td>0.2985</td>\n",
       "    </tr>\n",
       "    <tr>\n",
       "      <th>32</th>\n",
       "      <td>0.3042</td>\n",
       "      <td>0.2815</td>\n",
       "    </tr>\n",
       "    <tr>\n",
       "      <th>33</th>\n",
       "      <td>0.2139</td>\n",
       "      <td>0.2151</td>\n",
       "    </tr>\n",
       "    <tr>\n",
       "      <th>34</th>\n",
       "      <td>0.3087</td>\n",
       "      <td>0.2765</td>\n",
       "    </tr>\n",
       "    <tr>\n",
       "      <th>35</th>\n",
       "      <td>0.3490</td>\n",
       "      <td>0.2553</td>\n",
       "    </tr>\n",
       "    <tr>\n",
       "      <th>36</th>\n",
       "      <td>0.3667</td>\n",
       "      <td>0.3993</td>\n",
       "    </tr>\n",
       "    <tr>\n",
       "      <th>37</th>\n",
       "      <td>0.0318</td>\n",
       "      <td>0.0312</td>\n",
       "    </tr>\n",
       "    <tr>\n",
       "      <th>38</th>\n",
       "      <td>0.3039</td>\n",
       "      <td>0.2726</td>\n",
       "    </tr>\n",
       "    <tr>\n",
       "      <th>39</th>\n",
       "      <td>0.1580</td>\n",
       "      <td>0.1562</td>\n",
       "    </tr>\n",
       "    <tr>\n",
       "      <th>40</th>\n",
       "      <td>0.0579</td>\n",
       "      <td>0.0601</td>\n",
       "    </tr>\n",
       "    <tr>\n",
       "      <th>41</th>\n",
       "      <td>0.7940</td>\n",
       "      <td>0.7688</td>\n",
       "    </tr>\n",
       "    <tr>\n",
       "      <th>42</th>\n",
       "      <td>0.2503</td>\n",
       "      <td>0.2701</td>\n",
       "    </tr>\n",
       "    <tr>\n",
       "      <th>43</th>\n",
       "      <td>0.1076</td>\n",
       "      <td>0.2835</td>\n",
       "    </tr>\n",
       "    <tr>\n",
       "      <th>44</th>\n",
       "      <td>0.0650</td>\n",
       "      <td>0.0649</td>\n",
       "    </tr>\n",
       "    <tr>\n",
       "      <th>45</th>\n",
       "      <td>0.2328</td>\n",
       "      <td>0.2122</td>\n",
       "    </tr>\n",
       "    <tr>\n",
       "      <th>46</th>\n",
       "      <td>0.0827</td>\n",
       "      <td>0.2318</td>\n",
       "    </tr>\n",
       "    <tr>\n",
       "      <th>47</th>\n",
       "      <td>1.2724</td>\n",
       "      <td>1.0129</td>\n",
       "    </tr>\n",
       "    <tr>\n",
       "      <th>48</th>\n",
       "      <td>0.1008</td>\n",
       "      <td>0.7833</td>\n",
       "    </tr>\n",
       "    <tr>\n",
       "      <th>49</th>\n",
       "      <td>0.1095</td>\n",
       "      <td>0.1013</td>\n",
       "    </tr>\n",
       "  </tbody>\n",
       "</table>\n",
       "</div>"
      ],
      "text/plain": [
       "    Prediction   Truth\n",
       "0       1.1491  1.0003\n",
       "1       0.3365  0.5203\n",
       "2       0.3127  0.8795\n",
       "3       0.3313  0.4051\n",
       "4       0.1322  0.3196\n",
       "5       0.0511  0.0901\n",
       "6       0.0310  0.0308\n",
       "7       0.4606  0.4084\n",
       "8       0.0868  0.2266\n",
       "9       0.2504  0.2425\n",
       "10      0.5827  1.2226\n",
       "11      0.2960  0.2822\n",
       "12      0.1537  0.1506\n",
       "13      0.0832  0.0779\n",
       "14      0.0657  0.0633\n",
       "15      0.6934  0.7052\n",
       "16      0.0319  0.0316\n",
       "17      0.4376  1.4806\n",
       "18      0.2138  0.2805\n",
       "19      0.0991  0.0974\n",
       "20      0.5453  0.5153\n",
       "21      0.7337  0.8041\n",
       "22      0.1258  0.6343\n",
       "23      0.1416  0.1403\n",
       "24      0.1027  0.1009\n",
       "25      0.7449  0.7171\n",
       "26      0.1270  0.0248\n",
       "27      0.0475  0.0416\n",
       "28      0.1647  0.1800\n",
       "29      0.2014  0.1425\n",
       "30      0.3200  0.3103\n",
       "31      0.3115  0.2985\n",
       "32      0.3042  0.2815\n",
       "33      0.2139  0.2151\n",
       "34      0.3087  0.2765\n",
       "35      0.3490  0.2553\n",
       "36      0.3667  0.3993\n",
       "37      0.0318  0.0312\n",
       "38      0.3039  0.2726\n",
       "39      0.1580  0.1562\n",
       "40      0.0579  0.0601\n",
       "41      0.7940  0.7688\n",
       "42      0.2503  0.2701\n",
       "43      0.1076  0.2835\n",
       "44      0.0650  0.0649\n",
       "45      0.2328  0.2122\n",
       "46      0.0827  0.2318\n",
       "47      1.2724  1.0129\n",
       "48      0.1008  0.7833\n",
       "49      0.1095  0.1013"
      ]
     },
     "execution_count": 15,
     "metadata": {},
     "output_type": "execute_result"
    }
   ],
   "source": [
    "results_df[:50]"
   ]
  }
 ],
 "metadata": {
  "kernelspec": {
   "display_name": "anadolu",
   "language": "python",
   "name": "anadolu"
  },
  "language_info": {
   "codemirror_mode": {
    "name": "ipython",
    "version": 3
   },
   "file_extension": ".py",
   "mimetype": "text/x-python",
   "name": "python",
   "nbconvert_exporter": "python",
   "pygments_lexer": "ipython3",
   "version": "3.7.9"
  }
 },
 "nbformat": 4,
 "nbformat_minor": 4
}
