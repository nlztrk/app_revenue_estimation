{
 "cells": [
  {
   "cell_type": "markdown",
   "metadata": {},
   "source": [
    "## Importing necessary libs"
   ]
  },
  {
   "cell_type": "code",
   "execution_count": 1,
   "metadata": {},
   "outputs": [],
   "source": [
    "import pandas as pd\n",
    "from pandas_profiling import ProfileReport"
   ]
  },
  {
   "cell_type": "markdown",
   "metadata": {},
   "source": [
    "## Reading feature-engineered data"
   ]
  },
  {
   "cell_type": "code",
   "execution_count": 2,
   "metadata": {},
   "outputs": [],
   "source": [
    "df = pd.read_csv(\"fe_data.csv\")"
   ]
  },
  {
   "cell_type": "code",
   "execution_count": 3,
   "metadata": {},
   "outputs": [
    {
     "data": {
      "text/html": [
       "<div>\n",
       "<style scoped>\n",
       "    .dataframe tbody tr th:only-of-type {\n",
       "        vertical-align: middle;\n",
       "    }\n",
       "\n",
       "    .dataframe tbody tr th {\n",
       "        vertical-align: top;\n",
       "    }\n",
       "\n",
       "    .dataframe thead th {\n",
       "        text-align: right;\n",
       "    }\n",
       "</style>\n",
       "<table border=\"1\" class=\"dataframe\">\n",
       "  <thead>\n",
       "    <tr style=\"text-align: right;\">\n",
       "      <th></th>\n",
       "      <th>userID_anonymized</th>\n",
       "      <th>mean_revenue_banner_impression</th>\n",
       "      <th>mean_revenue_interstitial_impression</th>\n",
       "      <th>mean_revenue_level_event</th>\n",
       "      <th>mean_revenue_rewarded_impression</th>\n",
       "      <th>std_revenue_banner_impression</th>\n",
       "      <th>std_revenue_interstitial_impression</th>\n",
       "      <th>std_revenue_level_event</th>\n",
       "      <th>std_revenue_rewarded_impression</th>\n",
       "      <th>total_count_banner_impression</th>\n",
       "      <th>...</th>\n",
       "      <th>last_time_banner_impression</th>\n",
       "      <th>last_time_interstitial_impression</th>\n",
       "      <th>last_time_level_event</th>\n",
       "      <th>last_time_rewarded_impression</th>\n",
       "      <th>model</th>\n",
       "      <th>operating_system</th>\n",
       "      <th>mean_wifi_state</th>\n",
       "      <th>last_session_no</th>\n",
       "      <th>last_level</th>\n",
       "      <th>totalrevenue</th>\n",
       "    </tr>\n",
       "  </thead>\n",
       "  <tbody>\n",
       "    <tr>\n",
       "      <th>0</th>\n",
       "      <td>00081f8b-253d</td>\n",
       "      <td>0.000400</td>\n",
       "      <td>0.030000</td>\n",
       "      <td>0.0</td>\n",
       "      <td>0.00</td>\n",
       "      <td>0.000000</td>\n",
       "      <td>0.000000</td>\n",
       "      <td>0.0</td>\n",
       "      <td>0.0</td>\n",
       "      <td>6</td>\n",
       "      <td>...</td>\n",
       "      <td>13.0</td>\n",
       "      <td>2.0</td>\n",
       "      <td>14.0</td>\n",
       "      <td>0.0</td>\n",
       "      <td>iPhone8,2</td>\n",
       "      <td>iOS 14.0.1</td>\n",
       "      <td>1.000000</td>\n",
       "      <td>3</td>\n",
       "      <td>65</td>\n",
       "      <td>0.032400</td>\n",
       "    </tr>\n",
       "    <tr>\n",
       "      <th>1</th>\n",
       "      <td>000ab112-2616</td>\n",
       "      <td>0.000375</td>\n",
       "      <td>0.030000</td>\n",
       "      <td>0.0</td>\n",
       "      <td>0.00</td>\n",
       "      <td>0.000318</td>\n",
       "      <td>0.000000</td>\n",
       "      <td>0.0</td>\n",
       "      <td>0.0</td>\n",
       "      <td>2</td>\n",
       "      <td>...</td>\n",
       "      <td>0.0</td>\n",
       "      <td>0.0</td>\n",
       "      <td>0.0</td>\n",
       "      <td>0.0</td>\n",
       "      <td>iPhone12,1</td>\n",
       "      <td>iOS 14.2</td>\n",
       "      <td>1.000000</td>\n",
       "      <td>1</td>\n",
       "      <td>4</td>\n",
       "      <td>0.030750</td>\n",
       "    </tr>\n",
       "    <tr>\n",
       "      <th>2</th>\n",
       "      <td>002ff54d-8749</td>\n",
       "      <td>0.000669</td>\n",
       "      <td>0.027517</td>\n",
       "      <td>0.0</td>\n",
       "      <td>0.04</td>\n",
       "      <td>0.000962</td>\n",
       "      <td>0.005541</td>\n",
       "      <td>0.0</td>\n",
       "      <td>0.0</td>\n",
       "      <td>118</td>\n",
       "      <td>...</td>\n",
       "      <td>4078.0</td>\n",
       "      <td>4076.0</td>\n",
       "      <td>4078.0</td>\n",
       "      <td>1621.0</td>\n",
       "      <td>iPhone12,8</td>\n",
       "      <td>iOS 14.1</td>\n",
       "      <td>0.814159</td>\n",
       "      <td>8</td>\n",
       "      <td>1004</td>\n",
       "      <td>1.211006</td>\n",
       "    </tr>\n",
       "    <tr>\n",
       "      <th>3</th>\n",
       "      <td>0030d0af-2830</td>\n",
       "      <td>0.000416</td>\n",
       "      <td>0.022920</td>\n",
       "      <td>0.0</td>\n",
       "      <td>0.04</td>\n",
       "      <td>0.000184</td>\n",
       "      <td>0.005129</td>\n",
       "      <td>0.0</td>\n",
       "      <td>0.0</td>\n",
       "      <td>82</td>\n",
       "      <td>...</td>\n",
       "      <td>5137.0</td>\n",
       "      <td>5136.0</td>\n",
       "      <td>5137.0</td>\n",
       "      <td>763.0</td>\n",
       "      <td>iPhone9,3</td>\n",
       "      <td>iOS 13.7</td>\n",
       "      <td>1.000000</td>\n",
       "      <td>5</td>\n",
       "      <td>1003</td>\n",
       "      <td>0.881707</td>\n",
       "    </tr>\n",
       "    <tr>\n",
       "      <th>4</th>\n",
       "      <td>00441340-5d9c</td>\n",
       "      <td>0.000537</td>\n",
       "      <td>0.030000</td>\n",
       "      <td>0.0</td>\n",
       "      <td>0.00</td>\n",
       "      <td>0.000096</td>\n",
       "      <td>0.003536</td>\n",
       "      <td>0.0</td>\n",
       "      <td>0.0</td>\n",
       "      <td>16</td>\n",
       "      <td>...</td>\n",
       "      <td>2368.0</td>\n",
       "      <td>2035.0</td>\n",
       "      <td>2369.0</td>\n",
       "      <td>0.0</td>\n",
       "      <td>iPhone10,2</td>\n",
       "      <td>iOS 14.2</td>\n",
       "      <td>1.000000</td>\n",
       "      <td>4</td>\n",
       "      <td>67</td>\n",
       "      <td>0.184700</td>\n",
       "    </tr>\n",
       "  </tbody>\n",
       "</table>\n",
       "<p>5 rows × 23 columns</p>\n",
       "</div>"
      ],
      "text/plain": [
       "  userID_anonymized  mean_revenue_banner_impression  \\\n",
       "0     00081f8b-253d                        0.000400   \n",
       "1     000ab112-2616                        0.000375   \n",
       "2     002ff54d-8749                        0.000669   \n",
       "3     0030d0af-2830                        0.000416   \n",
       "4     00441340-5d9c                        0.000537   \n",
       "\n",
       "   mean_revenue_interstitial_impression  mean_revenue_level_event  \\\n",
       "0                              0.030000                       0.0   \n",
       "1                              0.030000                       0.0   \n",
       "2                              0.027517                       0.0   \n",
       "3                              0.022920                       0.0   \n",
       "4                              0.030000                       0.0   \n",
       "\n",
       "   mean_revenue_rewarded_impression  std_revenue_banner_impression  \\\n",
       "0                              0.00                       0.000000   \n",
       "1                              0.00                       0.000318   \n",
       "2                              0.04                       0.000962   \n",
       "3                              0.04                       0.000184   \n",
       "4                              0.00                       0.000096   \n",
       "\n",
       "   std_revenue_interstitial_impression  std_revenue_level_event  \\\n",
       "0                             0.000000                      0.0   \n",
       "1                             0.000000                      0.0   \n",
       "2                             0.005541                      0.0   \n",
       "3                             0.005129                      0.0   \n",
       "4                             0.003536                      0.0   \n",
       "\n",
       "   std_revenue_rewarded_impression  total_count_banner_impression  ...  \\\n",
       "0                              0.0                              6  ...   \n",
       "1                              0.0                              2  ...   \n",
       "2                              0.0                            118  ...   \n",
       "3                              0.0                             82  ...   \n",
       "4                              0.0                             16  ...   \n",
       "\n",
       "   last_time_banner_impression  last_time_interstitial_impression  \\\n",
       "0                         13.0                                2.0   \n",
       "1                          0.0                                0.0   \n",
       "2                       4078.0                             4076.0   \n",
       "3                       5137.0                             5136.0   \n",
       "4                       2368.0                             2035.0   \n",
       "\n",
       "   last_time_level_event  last_time_rewarded_impression       model  \\\n",
       "0                   14.0                            0.0   iPhone8,2   \n",
       "1                    0.0                            0.0  iPhone12,1   \n",
       "2                 4078.0                         1621.0  iPhone12,8   \n",
       "3                 5137.0                          763.0   iPhone9,3   \n",
       "4                 2369.0                            0.0  iPhone10,2   \n",
       "\n",
       "   operating_system  mean_wifi_state last_session_no last_level  totalrevenue  \n",
       "0        iOS 14.0.1         1.000000               3         65      0.032400  \n",
       "1          iOS 14.2         1.000000               1          4      0.030750  \n",
       "2          iOS 14.1         0.814159               8       1004      1.211006  \n",
       "3          iOS 13.7         1.000000               5       1003      0.881707  \n",
       "4          iOS 14.2         1.000000               4         67      0.184700  \n",
       "\n",
       "[5 rows x 23 columns]"
      ]
     },
     "execution_count": 3,
     "metadata": {},
     "output_type": "execute_result"
    }
   ],
   "source": [
    "df.head()"
   ]
  },
  {
   "cell_type": "code",
   "execution_count": 4,
   "metadata": {},
   "outputs": [],
   "source": [
    "df_profile = ProfileReport(df, title=\"DF Report\")"
   ]
  },
  {
   "cell_type": "code",
   "execution_count": 5,
   "metadata": {},
   "outputs": [
    {
     "data": {
      "application/vnd.jupyter.widget-view+json": {
       "model_id": "490d781b69f5470d9ad1e2d42c707720",
       "version_major": 2,
       "version_minor": 0
      },
      "text/plain": [
       "HBox(children=(HTML(value='Summarize dataset'), FloatProgress(value=0.0, max=36.0), HTML(value='')))"
      ]
     },
     "metadata": {},
     "output_type": "display_data"
    },
    {
     "name": "stdout",
     "output_type": "stream",
     "text": [
      "\n"
     ]
    },
    {
     "data": {
      "application/vnd.jupyter.widget-view+json": {
       "model_id": "2d86d509a2b84773b569f2895dff6ce3",
       "version_major": 2,
       "version_minor": 0
      },
      "text/plain": [
       "HBox(children=(HTML(value='Generate report structure'), FloatProgress(value=0.0, max=1.0), HTML(value='')))"
      ]
     },
     "metadata": {},
     "output_type": "display_data"
    },
    {
     "name": "stdout",
     "output_type": "stream",
     "text": [
      "\n"
     ]
    },
    {
     "data": {
      "application/vnd.jupyter.widget-view+json": {
       "model_id": "cf88102dd93d414fb57f3569cfbe0997",
       "version_major": 2,
       "version_minor": 0
      },
      "text/plain": [
       "HBox(children=(HTML(value='Render HTML'), FloatProgress(value=0.0, max=1.0), HTML(value='')))"
      ]
     },
     "metadata": {},
     "output_type": "display_data"
    },
    {
     "name": "stdout",
     "output_type": "stream",
     "text": [
      "\n"
     ]
    },
    {
     "data": {
      "application/vnd.jupyter.widget-view+json": {
       "model_id": "c7ac2e76cd9b4a45aea4b266e1f16df2",
       "version_major": 2,
       "version_minor": 0
      },
      "text/plain": [
       "HBox(children=(HTML(value='Export report to file'), FloatProgress(value=0.0, max=1.0), HTML(value='')))"
      ]
     },
     "metadata": {},
     "output_type": "display_data"
    },
    {
     "name": "stdout",
     "output_type": "stream",
     "text": [
      "\n"
     ]
    }
   ],
   "source": [
    "df_profile.to_file(\"03 report.html\")"
   ]
  }
 ],
 "metadata": {
  "kernelspec": {
   "display_name": "anadolu",
   "language": "python",
   "name": "anadolu"
  },
  "language_info": {
   "codemirror_mode": {
    "name": "ipython",
    "version": 3
   },
   "file_extension": ".py",
   "mimetype": "text/x-python",
   "name": "python",
   "nbconvert_exporter": "python",
   "pygments_lexer": "ipython3",
   "version": "3.7.9"
  }
 },
 "nbformat": 4,
 "nbformat_minor": 4
}
