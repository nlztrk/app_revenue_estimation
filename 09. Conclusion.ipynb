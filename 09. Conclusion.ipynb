{
 "cells": [
  {
   "cell_type": "markdown",
   "metadata": {},
   "source": [
    "# CONCLUSION"
   ]
  },
  {
   "cell_type": "markdown",
   "metadata": {},
   "source": [
    "### Interpreting Raw Data"
   ]
  },
  {
   "cell_type": "markdown",
   "metadata": {},
   "source": [
    "Most of the revenue values are distributed right-skewed. Example histogram is for interstitials.\n",
    "![alt text](./imgs/right_sk.png \"Solo Revenues\")\n",
    "\n",
    "Most of the total event occurance values are distributed right-skewed. Example histogram is for banner impression count.\n",
    "![alt text](./imgs/total_rsk.png \"Total Event Occurances\")\n",
    "\n",
    "Total revenues are distributed right-skewed. We can even say expnentially decayed.\n",
    "![alt text](./imgs/totalrevenue.png \"Total Revenues\")\n",
    "\n",
    "Last levels are distributed almost in binary manner. Most of the users play first 20% of the game while the others are fully completing it.\n",
    "![alt text](./imgs/lastlevels.png \"Last Played Levels\")\n",
    "\n",
    "Most of the users are up-to-date.\n",
    "![alt text](./imgs/osver.png \"OS Versions\")\n",
    "\n",
    "Most of the users uses iPhone 11 and iPhone XR.\n",
    "![alt text](./imgs/phonemodels.png \"iPhone Models\")\n",
    "\n",
    "We can say that the total revenue value is strongly related with these features:\n",
    "- Total Banner Impression Count\n",
    "- Total Interstitial Impression Count\n",
    "- Total Level Event Count\n",
    "- Last-Time Interstitial Impression\n",
    "\n",
    "![alt text](./imgs/spearman.png \"Variable Correlations\")"
   ]
  },
  {
   "cell_type": "markdown",
   "metadata": {},
   "source": [
    "- Revenues for interstitial_impression >> mean: 0.024 || std: 0.011\n",
    "- Revenues for banner_impression >> mean: 0.0 || std: 0.0\n",
    "- Revenues for level_event >> mean: 0.0 || std: 0.0\n",
    "- Revenues for rewarded_impression >> mean: 0.033 || std: 0.016\n",
    "\n",
    "It seems like the rewarded impressions make the best profit."
   ]
  },
  {
   "cell_type": "markdown",
   "metadata": {},
   "source": [
    "### Most Important Features"
   ]
  },
  {
   "cell_type": "markdown",
   "metadata": {},
   "source": [
    "![alt text](./imgs/featimps.png \"Title\")"
   ]
  },
  {
   "cell_type": "markdown",
   "metadata": {},
   "source": [
    "We see that the most important 2 features are:\n",
    "- Total Interstitial Ad Impression Count\n",
    "- Total Banner Ad Impression Count\n",
    "\n",
    "since they are most frequent events in a standard gameplay scenario. \"Total Rewarded Ad Impression Count\" comes with lesser weight because the users might don't want to wait for the whole ad to finish.\n",
    "\n",
    "- \"Total Level Event Count\" also matters, maybe because it's an indicator of playtime.\n",
    "- \"Last Time Banner Impression\" also matters, maybe because it's an indicator of the last date the game was opened by the user.\n",
    "- Mean revenue values are also important for the model since they are useful for the main regression task."
   ]
  },
  {
   "cell_type": "markdown",
   "metadata": {},
   "source": [
    "### Errors and Accuracy"
   ]
  },
  {
   "cell_type": "markdown",
   "metadata": {},
   "source": [
    "![alt text](./imgs/confmat.png \"Title\")"
   ]
  },
  {
   "cell_type": "markdown",
   "metadata": {},
   "source": [
    "- CV MAE: 0.082\n",
    "- CV MAE-std: 0.004 \n",
    "- CV MAPE: 0.267\n",
    "- CV MAPE-std: 0.075\n",
    "\n",
    "---------------------------\n",
    "- Test MAE: 0.082\n",
    "- Test MAPE: 0.203\n",
    "- Test MAE-std: 0.172\n",
    "- Test MAPE-std: 0.557\n",
    "\n",
    "---------------------------\n",
    "- Model accuracy: 0.8313\n",
    "\n",
    "---------------------------\n",
    "- Weighted F1 Score: 0.8303\n",
    "- Macro F1 Score: 0.8308\n",
    "- Micro F1 Score: 0.8313"
   ]
  },
  {
   "cell_type": "markdown",
   "metadata": {},
   "source": [
    "The feature extraction and selection increased the cross-validation and test scores of the regression model. When the regression problem is transformed into a binned classification problem with respect to quantiles, a substantial success is seen.\n",
    "\n",
    "The fact that F1 scores are very close to each other shows that the model does not suffer from situations such as class-imbalance or overfit."
   ]
  },
  {
   "cell_type": "markdown",
   "metadata": {},
   "source": [
    "### Model Selection"
   ]
  },
  {
   "cell_type": "markdown",
   "metadata": {},
   "source": [
    "In order to solve the regression problem, the \"CatboostRegressor\" model was chosen because it can give very successful results even with its default values. The presence of categorical values in the raw data was another important factor in choosing this model. Catboost is known to be particularly successful with categorical data."
   ]
  },
  {
   "cell_type": "markdown",
   "metadata": {},
   "source": [
    "### Clustering Insights\n",
    "\n",
    "In k-means configuration with k=3, we got following dominant features for each cluster:\n",
    "\n",
    "Cluster 1\n",
    "- mean_revenue_banner_impression\n",
    "- mean_wifi_state\n",
    "\n",
    "---------------------\n",
    "\n",
    "Cluster 2\n",
    "- mean_revenue_interstitial_impression\n",
    "- std_revenue_banner_impression\n",
    "- last_time_banner_impression\n",
    "- last_time_interstitial_impression\n",
    "- last_time_level_event\n",
    "\n",
    "---------------------\n",
    "\n",
    "Cluster 3\n",
    "- mean_revenue_rewarded_impression\n",
    "- std_revenue_interstitial_impression\n",
    "- std_revenue_rewarded_impression\n",
    "- last_time_rewarded_impression\n",
    "- totalrevenue\n",
    "\n",
    "We may make these interpretations for the clusters;\n",
    "- Cluster 1: Mostly plays at home. Mostly interacted with banners since they're skipping all the full-screen ads.\n",
    "- Cluster 2: Plays the game the most (for first three days). Uses interstitial ads for some in-game advantages.\n",
    "- Cluster 3: They are always accepting the rewarded-ad offers. They are making most of the total revenue since the most revenue comes from the rewarded ads."
   ]
  },
  {
   "cell_type": "markdown",
   "metadata": {},
   "source": [
    "### Potential\n",
    "The following solutions can be applied to improve the model results;\n",
    "\n",
    "Model-Centric Improvements:\n",
    "- Blending\n",
    "- Stack-Ensemble\n",
    "- Longer & Wider Hyperparameter Optimization\n",
    "- Maybe deploying a RNN-type solution may give better results\n",
    "- DNN-type solution (maybe with DAE input-preprocessing)\n",
    "\n",
    "Data-Centric Improvements:\n",
    "- Better feature extraction\n",
    "- Automated feature-selection (like Recursive Feature Elimination)"
   ]
  }
 ],
 "metadata": {
  "kernelspec": {
   "display_name": "anadolu",
   "language": "python",
   "name": "anadolu"
  },
  "language_info": {
   "codemirror_mode": {
    "name": "ipython",
    "version": 3
   },
   "file_extension": ".py",
   "mimetype": "text/x-python",
   "name": "python",
   "nbconvert_exporter": "python",
   "pygments_lexer": "ipython3",
   "version": "3.7.9"
  }
 },
 "nbformat": 4,
 "nbformat_minor": 4
}
