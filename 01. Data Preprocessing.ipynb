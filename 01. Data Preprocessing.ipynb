{
 "cells": [
  {
   "cell_type": "markdown",
   "metadata": {},
   "source": [
    "## Importing necessary libs"
   ]
  },
  {
   "cell_type": "code",
   "execution_count": 1,
   "metadata": {},
   "outputs": [],
   "source": [
    "import pandas as pd\n",
    "import numpy as np\n",
    "from pandas.io.json import json_normalize\n",
    "import json"
   ]
  },
  {
   "cell_type": "markdown",
   "metadata": {},
   "source": [
    "## Observing data format"
   ]
  },
  {
   "cell_type": "code",
   "execution_count": 2,
   "metadata": {},
   "outputs": [],
   "source": [
    "df = pd.read_csv(\"data.csv\").drop('Unnamed: 0', 1)"
   ]
  },
  {
   "cell_type": "code",
   "execution_count": 3,
   "metadata": {},
   "outputs": [
    {
     "data": {
      "text/html": [
       "<div>\n",
       "<style scoped>\n",
       "    .dataframe tbody tr th:only-of-type {\n",
       "        vertical-align: middle;\n",
       "    }\n",
       "\n",
       "    .dataframe tbody tr th {\n",
       "        vertical-align: top;\n",
       "    }\n",
       "\n",
       "    .dataframe thead th {\n",
       "        text-align: right;\n",
       "    }\n",
       "</style>\n",
       "<table border=\"1\" class=\"dataframe\">\n",
       "  <thead>\n",
       "    <tr style=\"text-align: right;\">\n",
       "      <th></th>\n",
       "      <th>userID_anonymized</th>\n",
       "      <th>arrival_time</th>\n",
       "      <th>event_time</th>\n",
       "      <th>eventType</th>\n",
       "      <th>event_data</th>\n",
       "      <th>platform</th>\n",
       "      <th>session_no</th>\n",
       "      <th>wifi_state</th>\n",
       "      <th>model</th>\n",
       "      <th>operating_system</th>\n",
       "      <th>totalrevenue</th>\n",
       "    </tr>\n",
       "  </thead>\n",
       "  <tbody>\n",
       "    <tr>\n",
       "      <th>0</th>\n",
       "      <td>12acc8df-d4f9</td>\n",
       "      <td>11/30/20 18:01</td>\n",
       "      <td>12/26/20 3:16</td>\n",
       "      <td>level_event</td>\n",
       "      <td>{duration=30.328, level=47, progress=36, play_...</td>\n",
       "      <td>ios</td>\n",
       "      <td>12</td>\n",
       "      <td>0</td>\n",
       "      <td>iPhone12,8</td>\n",
       "      <td>iOS 14.2</td>\n",
       "      <td>0.870634</td>\n",
       "    </tr>\n",
       "    <tr>\n",
       "      <th>1</th>\n",
       "      <td>12acc8df-d4f9</td>\n",
       "      <td>11/30/20 18:01</td>\n",
       "      <td>12/26/20 3:16</td>\n",
       "      <td>level_event</td>\n",
       "      <td>{duration=0, level=64, progress=37, play_count...</td>\n",
       "      <td>ios</td>\n",
       "      <td>12</td>\n",
       "      <td>0</td>\n",
       "      <td>iPhone12,8</td>\n",
       "      <td>iOS 14.2</td>\n",
       "      <td>0.870634</td>\n",
       "    </tr>\n",
       "    <tr>\n",
       "      <th>2</th>\n",
       "      <td>684c9a99-aeb0</td>\n",
       "      <td>11/30/20 15:06</td>\n",
       "      <td>12/26/20 0:53</td>\n",
       "      <td>level_event</td>\n",
       "      <td>{duration=39.537, level=7, progress=31, play_c...</td>\n",
       "      <td>ios</td>\n",
       "      <td>7</td>\n",
       "      <td>1</td>\n",
       "      <td>iPhone11,8</td>\n",
       "      <td>iOS 14.3</td>\n",
       "      <td>0.183914</td>\n",
       "    </tr>\n",
       "    <tr>\n",
       "      <th>3</th>\n",
       "      <td>684c9a99-aeb0</td>\n",
       "      <td>11/30/20 15:06</td>\n",
       "      <td>12/26/20 0:53</td>\n",
       "      <td>level_event</td>\n",
       "      <td>{duration=0, level=58, progress=31, play_count...</td>\n",
       "      <td>ios</td>\n",
       "      <td>7</td>\n",
       "      <td>1</td>\n",
       "      <td>iPhone11,8</td>\n",
       "      <td>iOS 14.3</td>\n",
       "      <td>0.183914</td>\n",
       "    </tr>\n",
       "    <tr>\n",
       "      <th>4</th>\n",
       "      <td>be725f9b-33c5</td>\n",
       "      <td>11/30/20 3:20</td>\n",
       "      <td>11/30/20 3:21</td>\n",
       "      <td>interstitial_impression</td>\n",
       "      <td>{'revenue': '0.035'}</td>\n",
       "      <td>ios</td>\n",
       "      <td>1</td>\n",
       "      <td>1</td>\n",
       "      <td>iPhone12,1</td>\n",
       "      <td>iOS 14.0.1</td>\n",
       "      <td>0.036200</td>\n",
       "    </tr>\n",
       "  </tbody>\n",
       "</table>\n",
       "</div>"
      ],
      "text/plain": [
       "  userID_anonymized    arrival_time     event_time                eventType  \\\n",
       "0     12acc8df-d4f9  11/30/20 18:01  12/26/20 3:16              level_event   \n",
       "1     12acc8df-d4f9  11/30/20 18:01  12/26/20 3:16              level_event   \n",
       "2     684c9a99-aeb0  11/30/20 15:06  12/26/20 0:53              level_event   \n",
       "3     684c9a99-aeb0  11/30/20 15:06  12/26/20 0:53              level_event   \n",
       "4     be725f9b-33c5   11/30/20 3:20  11/30/20 3:21  interstitial_impression   \n",
       "\n",
       "                                          event_data platform  session_no  \\\n",
       "0  {duration=30.328, level=47, progress=36, play_...      ios          12   \n",
       "1  {duration=0, level=64, progress=37, play_count...      ios          12   \n",
       "2  {duration=39.537, level=7, progress=31, play_c...      ios           7   \n",
       "3  {duration=0, level=58, progress=31, play_count...      ios           7   \n",
       "4                               {'revenue': '0.035'}      ios           1   \n",
       "\n",
       "   wifi_state       model operating_system  totalrevenue  \n",
       "0           0  iPhone12,8         iOS 14.2      0.870634  \n",
       "1           0  iPhone12,8         iOS 14.2      0.870634  \n",
       "2           1  iPhone11,8         iOS 14.3      0.183914  \n",
       "3           1  iPhone11,8         iOS 14.3      0.183914  \n",
       "4           1  iPhone12,1       iOS 14.0.1      0.036200  "
      ]
     },
     "execution_count": 3,
     "metadata": {},
     "output_type": "execute_result"
    }
   ],
   "source": [
    "df.head()"
   ]
  },
  {
   "cell_type": "markdown",
   "metadata": {},
   "source": [
    "### Parsing event data\n",
    "Getting each event type"
   ]
  },
  {
   "cell_type": "code",
   "execution_count": 4,
   "metadata": {},
   "outputs": [
    {
     "data": {
      "text/plain": [
       "array(['level_event', 'interstitial_impression', 'banner_impression',\n",
       "       'rewarded_impression'], dtype=object)"
      ]
     },
     "execution_count": 4,
     "metadata": {},
     "output_type": "execute_result"
    }
   ],
   "source": [
    "df[\"eventType\"].unique()"
   ]
  },
  {
   "cell_type": "code",
   "execution_count": 5,
   "metadata": {},
   "outputs": [],
   "source": [
    "df[\"eventType\"]= df[\"eventType\"].astype(str)"
   ]
  },
  {
   "cell_type": "markdown",
   "metadata": {},
   "source": [
    "Getting the data structure for each event type"
   ]
  },
  {
   "cell_type": "code",
   "execution_count": 6,
   "metadata": {},
   "outputs": [
    {
     "name": "stdout",
     "output_type": "stream",
     "text": [
      "level_event : {duration=1.606702E+09, level=5, progress=42, play_count=42, status=1}\n",
      "interstitial_impression : {'revenue': '0.03'}\n",
      "banner_impression : {'revenue': '0.0003'}\n",
      "rewarded_impression : {'revenue': '0.0275'}\n"
     ]
    }
   ],
   "source": [
    "for uniqevent in df[\"eventType\"].unique():\n",
    "    print(uniqevent, \":\", df[df[\"eventType\"]==uniqevent][\"event_data\"].iloc[100])"
   ]
  },
  {
   "cell_type": "markdown",
   "metadata": {},
   "source": [
    "Designing parsers for each data format"
   ]
  },
  {
   "cell_type": "code",
   "execution_count": 7,
   "metadata": {},
   "outputs": [],
   "source": [
    "def extract_level_event_data(r):\n",
    "    \n",
    "    r = r.replace(\"=\",\":\").replace('duration', '\"duration\"').replace(\"level\", '\"level\"').replace(\"progress\", '\"progress\"').replace(\"play_count\", '\"play_count\"').replace(\"status\", '\"status\"')\n",
    "    r = json.loads(r)\n",
    "    \n",
    "    returndict = {\n",
    "        \"duration\":0,\n",
    "        \"level\":0,\n",
    "        \"progress\":0,\n",
    "        \"play_count\":0,\n",
    "        \"status\":0,\n",
    "    }\n",
    "    \n",
    "    returndict.update(r)\n",
    "    \n",
    "    return returndict[\"duration\"], returndict[\"level\"], returndict[\"progress\"], returndict[\"play_count\"], returndict[\"status\"]"
   ]
  },
  {
   "cell_type": "code",
   "execution_count": 8,
   "metadata": {},
   "outputs": [],
   "source": [
    "def extract_revenue_data(r):\n",
    "    \n",
    "    revenue = r.split(\":\")[1].split(\"'\")[1]\n",
    "    \n",
    "    return revenue"
   ]
  },
  {
   "cell_type": "markdown",
   "metadata": {},
   "source": [
    "Extracting event_data to seperate columns"
   ]
  },
  {
   "cell_type": "code",
   "execution_count": 9,
   "metadata": {},
   "outputs": [],
   "source": [
    "df[\"duration\"] = df[\"level\"] = df[\"progress\"] = df[\"play_count\"] = df[\"status\"] = df[\"revenue\"] = 0\n",
    "\n",
    "## extracting level data\n",
    "df.loc[df[\"eventType\"]==\"level_event\", [\"duration\", \"level\", \"progress\", \"play_count\", \"status\"]] =\\\n",
    "list(df['event_data'][df[\"eventType\"]==\"level_event\"].apply(extract_level_event_data))\n",
    "\n",
    "## extracting revenue data\n",
    "df.loc[df[\"eventType\"]!=\"level_event\", \"revenue\"] =\\\n",
    "df['event_data'][df[\"eventType\"]!=\"level_event\"].apply(extract_revenue_data)\n",
    "\n",
    "## object to float conversion\n",
    "df[\"revenue\"]= df[\"revenue\"].astype(float)"
   ]
  },
  {
   "cell_type": "markdown",
   "metadata": {},
   "source": [
    "Dropping json-like event_data"
   ]
  },
  {
   "cell_type": "code",
   "execution_count": 10,
   "metadata": {},
   "outputs": [],
   "source": [
    "df.drop('event_data', 1, inplace=True)"
   ]
  },
  {
   "cell_type": "code",
   "execution_count": 11,
   "metadata": {},
   "outputs": [
    {
     "data": {
      "text/html": [
       "<div>\n",
       "<style scoped>\n",
       "    .dataframe tbody tr th:only-of-type {\n",
       "        vertical-align: middle;\n",
       "    }\n",
       "\n",
       "    .dataframe tbody tr th {\n",
       "        vertical-align: top;\n",
       "    }\n",
       "\n",
       "    .dataframe thead th {\n",
       "        text-align: right;\n",
       "    }\n",
       "</style>\n",
       "<table border=\"1\" class=\"dataframe\">\n",
       "  <thead>\n",
       "    <tr style=\"text-align: right;\">\n",
       "      <th></th>\n",
       "      <th>userID_anonymized</th>\n",
       "      <th>arrival_time</th>\n",
       "      <th>event_time</th>\n",
       "      <th>eventType</th>\n",
       "      <th>platform</th>\n",
       "      <th>session_no</th>\n",
       "      <th>wifi_state</th>\n",
       "      <th>model</th>\n",
       "      <th>operating_system</th>\n",
       "      <th>totalrevenue</th>\n",
       "      <th>duration</th>\n",
       "      <th>level</th>\n",
       "      <th>progress</th>\n",
       "      <th>play_count</th>\n",
       "      <th>status</th>\n",
       "      <th>revenue</th>\n",
       "    </tr>\n",
       "  </thead>\n",
       "  <tbody>\n",
       "    <tr>\n",
       "      <th>0</th>\n",
       "      <td>12acc8df-d4f9</td>\n",
       "      <td>11/30/20 18:01</td>\n",
       "      <td>12/26/20 3:16</td>\n",
       "      <td>level_event</td>\n",
       "      <td>ios</td>\n",
       "      <td>12</td>\n",
       "      <td>0</td>\n",
       "      <td>iPhone12,8</td>\n",
       "      <td>iOS 14.2</td>\n",
       "      <td>0.870634</td>\n",
       "      <td>30.328</td>\n",
       "      <td>47</td>\n",
       "      <td>36</td>\n",
       "      <td>36</td>\n",
       "      <td>1</td>\n",
       "      <td>0.000</td>\n",
       "    </tr>\n",
       "    <tr>\n",
       "      <th>1</th>\n",
       "      <td>12acc8df-d4f9</td>\n",
       "      <td>11/30/20 18:01</td>\n",
       "      <td>12/26/20 3:16</td>\n",
       "      <td>level_event</td>\n",
       "      <td>ios</td>\n",
       "      <td>12</td>\n",
       "      <td>0</td>\n",
       "      <td>iPhone12,8</td>\n",
       "      <td>iOS 14.2</td>\n",
       "      <td>0.870634</td>\n",
       "      <td>0.000</td>\n",
       "      <td>64</td>\n",
       "      <td>37</td>\n",
       "      <td>37</td>\n",
       "      <td>2</td>\n",
       "      <td>0.000</td>\n",
       "    </tr>\n",
       "    <tr>\n",
       "      <th>2</th>\n",
       "      <td>684c9a99-aeb0</td>\n",
       "      <td>11/30/20 15:06</td>\n",
       "      <td>12/26/20 0:53</td>\n",
       "      <td>level_event</td>\n",
       "      <td>ios</td>\n",
       "      <td>7</td>\n",
       "      <td>1</td>\n",
       "      <td>iPhone11,8</td>\n",
       "      <td>iOS 14.3</td>\n",
       "      <td>0.183914</td>\n",
       "      <td>39.537</td>\n",
       "      <td>7</td>\n",
       "      <td>31</td>\n",
       "      <td>31</td>\n",
       "      <td>1</td>\n",
       "      <td>0.000</td>\n",
       "    </tr>\n",
       "    <tr>\n",
       "      <th>3</th>\n",
       "      <td>684c9a99-aeb0</td>\n",
       "      <td>11/30/20 15:06</td>\n",
       "      <td>12/26/20 0:53</td>\n",
       "      <td>level_event</td>\n",
       "      <td>ios</td>\n",
       "      <td>7</td>\n",
       "      <td>1</td>\n",
       "      <td>iPhone11,8</td>\n",
       "      <td>iOS 14.3</td>\n",
       "      <td>0.183914</td>\n",
       "      <td>0.000</td>\n",
       "      <td>58</td>\n",
       "      <td>31</td>\n",
       "      <td>31</td>\n",
       "      <td>2</td>\n",
       "      <td>0.000</td>\n",
       "    </tr>\n",
       "    <tr>\n",
       "      <th>4</th>\n",
       "      <td>be725f9b-33c5</td>\n",
       "      <td>11/30/20 3:20</td>\n",
       "      <td>11/30/20 3:21</td>\n",
       "      <td>interstitial_impression</td>\n",
       "      <td>ios</td>\n",
       "      <td>1</td>\n",
       "      <td>1</td>\n",
       "      <td>iPhone12,1</td>\n",
       "      <td>iOS 14.0.1</td>\n",
       "      <td>0.036200</td>\n",
       "      <td>0.000</td>\n",
       "      <td>0</td>\n",
       "      <td>0</td>\n",
       "      <td>0</td>\n",
       "      <td>0</td>\n",
       "      <td>0.035</td>\n",
       "    </tr>\n",
       "  </tbody>\n",
       "</table>\n",
       "</div>"
      ],
      "text/plain": [
       "  userID_anonymized    arrival_time     event_time                eventType  \\\n",
       "0     12acc8df-d4f9  11/30/20 18:01  12/26/20 3:16              level_event   \n",
       "1     12acc8df-d4f9  11/30/20 18:01  12/26/20 3:16              level_event   \n",
       "2     684c9a99-aeb0  11/30/20 15:06  12/26/20 0:53              level_event   \n",
       "3     684c9a99-aeb0  11/30/20 15:06  12/26/20 0:53              level_event   \n",
       "4     be725f9b-33c5   11/30/20 3:20  11/30/20 3:21  interstitial_impression   \n",
       "\n",
       "  platform  session_no  wifi_state       model operating_system  totalrevenue  \\\n",
       "0      ios          12           0  iPhone12,8         iOS 14.2      0.870634   \n",
       "1      ios          12           0  iPhone12,8         iOS 14.2      0.870634   \n",
       "2      ios           7           1  iPhone11,8         iOS 14.3      0.183914   \n",
       "3      ios           7           1  iPhone11,8         iOS 14.3      0.183914   \n",
       "4      ios           1           1  iPhone12,1       iOS 14.0.1      0.036200   \n",
       "\n",
       "   duration  level  progress  play_count  status  revenue  \n",
       "0    30.328     47        36          36       1    0.000  \n",
       "1     0.000     64        37          37       2    0.000  \n",
       "2    39.537      7        31          31       1    0.000  \n",
       "3     0.000     58        31          31       2    0.000  \n",
       "4     0.000      0         0           0       0    0.035  "
      ]
     },
     "execution_count": 11,
     "metadata": {},
     "output_type": "execute_result"
    }
   ],
   "source": [
    "df.head()"
   ]
  },
  {
   "cell_type": "markdown",
   "metadata": {},
   "source": [
    "### Extracting meaningful event time feature"
   ]
  },
  {
   "cell_type": "code",
   "execution_count": 12,
   "metadata": {},
   "outputs": [],
   "source": [
    "df[\"arrival_time\"] = pd.to_datetime(df[\"arrival_time\"])\n",
    "df[\"event_time\"] = pd.to_datetime(df[\"event_time\"])"
   ]
  },
  {
   "cell_type": "markdown",
   "metadata": {},
   "source": [
    "### Leaving only first 3 day events"
   ]
  },
  {
   "cell_type": "code",
   "execution_count": 13,
   "metadata": {},
   "outputs": [],
   "source": [
    "days = (df[\"event_time\"]-df[\"arrival_time\"]).astype('timedelta64[D]')\n",
    "df = df[days<=3]"
   ]
  },
  {
   "cell_type": "markdown",
   "metadata": {},
   "source": [
    "Extracting customer lifetimes in minute domain."
   ]
  },
  {
   "cell_type": "code",
   "execution_count": 14,
   "metadata": {},
   "outputs": [],
   "source": [
    "df[\"event_delay\"] = (df[\"event_time\"]-df[\"arrival_time\"]).astype('timedelta64[m]')\n",
    "df.drop(['arrival_time', 'event_time'], 1, inplace=True)"
   ]
  },
  {
   "cell_type": "markdown",
   "metadata": {},
   "source": [
    "### Reordering the columns"
   ]
  },
  {
   "cell_type": "code",
   "execution_count": 15,
   "metadata": {},
   "outputs": [],
   "source": [
    "# Dropping the 'platform' since they are all = \"ios\"\n",
    "df = df[[\"userID_anonymized\", \"model\", \"operating_system\", \"wifi_state\", \"session_no\", \"event_delay\", \"eventType\", \"duration\", \"level\", \"progress\", \"play_count\", \"status\", \"revenue\", \"totalrevenue\"]]"
   ]
  },
  {
   "cell_type": "code",
   "execution_count": 16,
   "metadata": {},
   "outputs": [
    {
     "data": {
      "text/html": [
       "<div>\n",
       "<style scoped>\n",
       "    .dataframe tbody tr th:only-of-type {\n",
       "        vertical-align: middle;\n",
       "    }\n",
       "\n",
       "    .dataframe tbody tr th {\n",
       "        vertical-align: top;\n",
       "    }\n",
       "\n",
       "    .dataframe thead th {\n",
       "        text-align: right;\n",
       "    }\n",
       "</style>\n",
       "<table border=\"1\" class=\"dataframe\">\n",
       "  <thead>\n",
       "    <tr style=\"text-align: right;\">\n",
       "      <th></th>\n",
       "      <th>userID_anonymized</th>\n",
       "      <th>model</th>\n",
       "      <th>operating_system</th>\n",
       "      <th>wifi_state</th>\n",
       "      <th>session_no</th>\n",
       "      <th>event_delay</th>\n",
       "      <th>eventType</th>\n",
       "      <th>duration</th>\n",
       "      <th>level</th>\n",
       "      <th>progress</th>\n",
       "      <th>play_count</th>\n",
       "      <th>status</th>\n",
       "      <th>revenue</th>\n",
       "      <th>totalrevenue</th>\n",
       "    </tr>\n",
       "  </thead>\n",
       "  <tbody>\n",
       "    <tr>\n",
       "      <th>4</th>\n",
       "      <td>be725f9b-33c5</td>\n",
       "      <td>iPhone12,1</td>\n",
       "      <td>iOS 14.0.1</td>\n",
       "      <td>1</td>\n",
       "      <td>1</td>\n",
       "      <td>1.0</td>\n",
       "      <td>interstitial_impression</td>\n",
       "      <td>0.000000e+00</td>\n",
       "      <td>0</td>\n",
       "      <td>0</td>\n",
       "      <td>0</td>\n",
       "      <td>0</td>\n",
       "      <td>0.03500</td>\n",
       "      <td>0.036200</td>\n",
       "    </tr>\n",
       "    <tr>\n",
       "      <th>5</th>\n",
       "      <td>dd5ef583-258b</td>\n",
       "      <td>iPhone12,1</td>\n",
       "      <td>iOS 14.2</td>\n",
       "      <td>0</td>\n",
       "      <td>13</td>\n",
       "      <td>195.0</td>\n",
       "      <td>banner_impression</td>\n",
       "      <td>0.000000e+00</td>\n",
       "      <td>0</td>\n",
       "      <td>0</td>\n",
       "      <td>0</td>\n",
       "      <td>0</td>\n",
       "      <td>0.00030</td>\n",
       "      <td>0.460578</td>\n",
       "    </tr>\n",
       "    <tr>\n",
       "      <th>6</th>\n",
       "      <td>be725f9b-33c5</td>\n",
       "      <td>iPhone12,1</td>\n",
       "      <td>iOS 14.0.1</td>\n",
       "      <td>1</td>\n",
       "      <td>1</td>\n",
       "      <td>2.0</td>\n",
       "      <td>level_event</td>\n",
       "      <td>1.606707e+09</td>\n",
       "      <td>25</td>\n",
       "      <td>10</td>\n",
       "      <td>10</td>\n",
       "      <td>1</td>\n",
       "      <td>0.00000</td>\n",
       "      <td>0.036200</td>\n",
       "    </tr>\n",
       "    <tr>\n",
       "      <th>7</th>\n",
       "      <td>fb8331dd-f7f7</td>\n",
       "      <td>iPhone11,8</td>\n",
       "      <td>iOS 14.2</td>\n",
       "      <td>1</td>\n",
       "      <td>3</td>\n",
       "      <td>45.0</td>\n",
       "      <td>banner_impression</td>\n",
       "      <td>0.000000e+00</td>\n",
       "      <td>0</td>\n",
       "      <td>0</td>\n",
       "      <td>0</td>\n",
       "      <td>0</td>\n",
       "      <td>0.00030</td>\n",
       "      <td>1.161082</td>\n",
       "    </tr>\n",
       "    <tr>\n",
       "      <th>8</th>\n",
       "      <td>64dea955-8f14</td>\n",
       "      <td>iPhone11,6</td>\n",
       "      <td>iOS 14.2</td>\n",
       "      <td>1</td>\n",
       "      <td>1</td>\n",
       "      <td>3.0</td>\n",
       "      <td>banner_impression</td>\n",
       "      <td>0.000000e+00</td>\n",
       "      <td>0</td>\n",
       "      <td>0</td>\n",
       "      <td>0</td>\n",
       "      <td>0</td>\n",
       "      <td>0.00015</td>\n",
       "      <td>0.408266</td>\n",
       "    </tr>\n",
       "  </tbody>\n",
       "</table>\n",
       "</div>"
      ],
      "text/plain": [
       "  userID_anonymized       model operating_system  wifi_state  session_no  \\\n",
       "4     be725f9b-33c5  iPhone12,1       iOS 14.0.1           1           1   \n",
       "5     dd5ef583-258b  iPhone12,1         iOS 14.2           0          13   \n",
       "6     be725f9b-33c5  iPhone12,1       iOS 14.0.1           1           1   \n",
       "7     fb8331dd-f7f7  iPhone11,8         iOS 14.2           1           3   \n",
       "8     64dea955-8f14  iPhone11,6         iOS 14.2           1           1   \n",
       "\n",
       "   event_delay                eventType      duration  level  progress  \\\n",
       "4          1.0  interstitial_impression  0.000000e+00      0         0   \n",
       "5        195.0        banner_impression  0.000000e+00      0         0   \n",
       "6          2.0              level_event  1.606707e+09     25        10   \n",
       "7         45.0        banner_impression  0.000000e+00      0         0   \n",
       "8          3.0        banner_impression  0.000000e+00      0         0   \n",
       "\n",
       "   play_count  status  revenue  totalrevenue  \n",
       "4           0       0  0.03500      0.036200  \n",
       "5           0       0  0.00030      0.460578  \n",
       "6          10       1  0.00000      0.036200  \n",
       "7           0       0  0.00030      1.161082  \n",
       "8           0       0  0.00015      0.408266  "
      ]
     },
     "execution_count": 16,
     "metadata": {},
     "output_type": "execute_result"
    }
   ],
   "source": [
    "df.head()"
   ]
  },
  {
   "cell_type": "markdown",
   "metadata": {},
   "source": [
    "# Descriptive Analysis on Preprocessed Time Series Data"
   ]
  },
  {
   "cell_type": "code",
   "execution_count": 17,
   "metadata": {},
   "outputs": [
    {
     "data": {
      "text/html": [
       "<div>\n",
       "<style scoped>\n",
       "    .dataframe tbody tr th:only-of-type {\n",
       "        vertical-align: middle;\n",
       "    }\n",
       "\n",
       "    .dataframe tbody tr th {\n",
       "        vertical-align: top;\n",
       "    }\n",
       "\n",
       "    .dataframe thead th {\n",
       "        text-align: right;\n",
       "    }\n",
       "</style>\n",
       "<table border=\"1\" class=\"dataframe\">\n",
       "  <thead>\n",
       "    <tr style=\"text-align: right;\">\n",
       "      <th></th>\n",
       "      <th>wifi_state</th>\n",
       "      <th>session_no</th>\n",
       "      <th>event_delay</th>\n",
       "      <th>duration</th>\n",
       "      <th>level</th>\n",
       "      <th>progress</th>\n",
       "      <th>play_count</th>\n",
       "      <th>status</th>\n",
       "      <th>revenue</th>\n",
       "      <th>totalrevenue</th>\n",
       "    </tr>\n",
       "  </thead>\n",
       "  <tbody>\n",
       "    <tr>\n",
       "      <th>count</th>\n",
       "      <td>664469.000000</td>\n",
       "      <td>664469.000000</td>\n",
       "      <td>664469.000000</td>\n",
       "      <td>6.644690e+05</td>\n",
       "      <td>664469.000000</td>\n",
       "      <td>664469.000000</td>\n",
       "      <td>664469.000000</td>\n",
       "      <td>664469.000000</td>\n",
       "      <td>664469.000000</td>\n",
       "      <td>664469.000000</td>\n",
       "    </tr>\n",
       "    <tr>\n",
       "      <th>mean</th>\n",
       "      <td>0.770340</td>\n",
       "      <td>3.046338</td>\n",
       "      <td>852.146538</td>\n",
       "      <td>6.452515e+08</td>\n",
       "      <td>21.993533</td>\n",
       "      <td>15.471104</td>\n",
       "      <td>15.469196</td>\n",
       "      <td>0.402979</td>\n",
       "      <td>0.003523</td>\n",
       "      <td>0.724801</td>\n",
       "    </tr>\n",
       "    <tr>\n",
       "      <th>std</th>\n",
       "      <td>0.420615</td>\n",
       "      <td>3.318114</td>\n",
       "      <td>1340.488521</td>\n",
       "      <td>7.876748e+08</td>\n",
       "      <td>77.794183</td>\n",
       "      <td>35.676937</td>\n",
       "      <td>35.677131</td>\n",
       "      <td>0.490497</td>\n",
       "      <td>0.009190</td>\n",
       "      <td>0.629003</td>\n",
       "    </tr>\n",
       "    <tr>\n",
       "      <th>min</th>\n",
       "      <td>0.000000</td>\n",
       "      <td>1.000000</td>\n",
       "      <td>0.000000</td>\n",
       "      <td>0.000000e+00</td>\n",
       "      <td>0.000000</td>\n",
       "      <td>0.000000</td>\n",
       "      <td>0.000000</td>\n",
       "      <td>0.000000</td>\n",
       "      <td>0.000000</td>\n",
       "      <td>0.000200</td>\n",
       "    </tr>\n",
       "    <tr>\n",
       "      <th>25%</th>\n",
       "      <td>1.000000</td>\n",
       "      <td>1.000000</td>\n",
       "      <td>5.000000</td>\n",
       "      <td>0.000000e+00</td>\n",
       "      <td>0.000000</td>\n",
       "      <td>0.000000</td>\n",
       "      <td>0.000000</td>\n",
       "      <td>0.000000</td>\n",
       "      <td>0.000000</td>\n",
       "      <td>0.295700</td>\n",
       "    </tr>\n",
       "    <tr>\n",
       "      <th>50%</th>\n",
       "      <td>1.000000</td>\n",
       "      <td>2.000000</td>\n",
       "      <td>73.000000</td>\n",
       "      <td>0.000000e+00</td>\n",
       "      <td>0.000000</td>\n",
       "      <td>0.000000</td>\n",
       "      <td>0.000000</td>\n",
       "      <td>0.000000</td>\n",
       "      <td>0.000231</td>\n",
       "      <td>0.566566</td>\n",
       "    </tr>\n",
       "    <tr>\n",
       "      <th>75%</th>\n",
       "      <td>1.000000</td>\n",
       "      <td>4.000000</td>\n",
       "      <td>1286.000000</td>\n",
       "      <td>1.606758e+09</td>\n",
       "      <td>30.000000</td>\n",
       "      <td>15.000000</td>\n",
       "      <td>15.000000</td>\n",
       "      <td>1.000000</td>\n",
       "      <td>0.000600</td>\n",
       "      <td>0.975983</td>\n",
       "    </tr>\n",
       "    <tr>\n",
       "      <th>max</th>\n",
       "      <td>1.000000</td>\n",
       "      <td>67.000000</td>\n",
       "      <td>5759.000000</td>\n",
       "      <td>1.607125e+09</td>\n",
       "      <td>1010.000000</td>\n",
       "      <td>587.000000</td>\n",
       "      <td>587.000000</td>\n",
       "      <td>1.000000</td>\n",
       "      <td>0.317145</td>\n",
       "      <td>7.477914</td>\n",
       "    </tr>\n",
       "  </tbody>\n",
       "</table>\n",
       "</div>"
      ],
      "text/plain": [
       "          wifi_state     session_no    event_delay      duration  \\\n",
       "count  664469.000000  664469.000000  664469.000000  6.644690e+05   \n",
       "mean        0.770340       3.046338     852.146538  6.452515e+08   \n",
       "std         0.420615       3.318114    1340.488521  7.876748e+08   \n",
       "min         0.000000       1.000000       0.000000  0.000000e+00   \n",
       "25%         1.000000       1.000000       5.000000  0.000000e+00   \n",
       "50%         1.000000       2.000000      73.000000  0.000000e+00   \n",
       "75%         1.000000       4.000000    1286.000000  1.606758e+09   \n",
       "max         1.000000      67.000000    5759.000000  1.607125e+09   \n",
       "\n",
       "               level       progress     play_count         status  \\\n",
       "count  664469.000000  664469.000000  664469.000000  664469.000000   \n",
       "mean       21.993533      15.471104      15.469196       0.402979   \n",
       "std        77.794183      35.676937      35.677131       0.490497   \n",
       "min         0.000000       0.000000       0.000000       0.000000   \n",
       "25%         0.000000       0.000000       0.000000       0.000000   \n",
       "50%         0.000000       0.000000       0.000000       0.000000   \n",
       "75%        30.000000      15.000000      15.000000       1.000000   \n",
       "max      1010.000000     587.000000     587.000000       1.000000   \n",
       "\n",
       "             revenue   totalrevenue  \n",
       "count  664469.000000  664469.000000  \n",
       "mean        0.003523       0.724801  \n",
       "std         0.009190       0.629003  \n",
       "min         0.000000       0.000200  \n",
       "25%         0.000000       0.295700  \n",
       "50%         0.000231       0.566566  \n",
       "75%         0.000600       0.975983  \n",
       "max         0.317145       7.477914  "
      ]
     },
     "execution_count": 17,
     "metadata": {},
     "output_type": "execute_result"
    }
   ],
   "source": [
    "df.describe()"
   ]
  },
  {
   "cell_type": "code",
   "execution_count": 18,
   "metadata": {},
   "outputs": [
    {
     "data": {
      "text/html": [
       "<div>\n",
       "<style scoped>\n",
       "    .dataframe tbody tr th:only-of-type {\n",
       "        vertical-align: middle;\n",
       "    }\n",
       "\n",
       "    .dataframe tbody tr th {\n",
       "        vertical-align: top;\n",
       "    }\n",
       "\n",
       "    .dataframe thead th {\n",
       "        text-align: right;\n",
       "    }\n",
       "</style>\n",
       "<table border=\"1\" class=\"dataframe\">\n",
       "  <thead>\n",
       "    <tr style=\"text-align: right;\">\n",
       "      <th></th>\n",
       "      <th>userID_anonymized</th>\n",
       "      <th>model</th>\n",
       "      <th>operating_system</th>\n",
       "      <th>eventType</th>\n",
       "    </tr>\n",
       "  </thead>\n",
       "  <tbody>\n",
       "    <tr>\n",
       "      <th>count</th>\n",
       "      <td>664469</td>\n",
       "      <td>664469</td>\n",
       "      <td>664469</td>\n",
       "      <td>664469</td>\n",
       "    </tr>\n",
       "    <tr>\n",
       "      <th>unique</th>\n",
       "      <td>8327</td>\n",
       "      <td>78</td>\n",
       "      <td>53</td>\n",
       "      <td>4</td>\n",
       "    </tr>\n",
       "    <tr>\n",
       "      <th>top</th>\n",
       "      <td>c3dcc33c-4c82</td>\n",
       "      <td>iPhone12,1</td>\n",
       "      <td>iOS 14.2</td>\n",
       "      <td>banner_impression</td>\n",
       "    </tr>\n",
       "    <tr>\n",
       "      <th>freq</th>\n",
       "      <td>1449</td>\n",
       "      <td>107374</td>\n",
       "      <td>397663</td>\n",
       "      <td>305828</td>\n",
       "    </tr>\n",
       "  </tbody>\n",
       "</table>\n",
       "</div>"
      ],
      "text/plain": [
       "       userID_anonymized       model operating_system          eventType\n",
       "count             664469      664469           664469             664469\n",
       "unique              8327          78               53                  4\n",
       "top        c3dcc33c-4c82  iPhone12,1         iOS 14.2  banner_impression\n",
       "freq                1449      107374           397663             305828"
      ]
     },
     "execution_count": 18,
     "metadata": {},
     "output_type": "execute_result"
    }
   ],
   "source": [
    "df.describe(include=['object', 'bool'])"
   ]
  },
  {
   "cell_type": "code",
   "execution_count": 19,
   "metadata": {},
   "outputs": [
    {
     "data": {
      "text/plain": [
       "iPhone12,1    107374\n",
       "iPhone11,8    104894\n",
       "iPhone12,8     44198\n",
       "iPhone9,1      39704\n",
       "iPhone8,1      27437\n",
       "iPhone10,2     25892\n",
       "iPhone10,1     25446\n",
       "iPhone12,5     24813\n",
       "iPhone11,6     15673\n",
       "iPhone10,4     14567\n",
       "Name: model, dtype: int64"
      ]
     },
     "execution_count": 19,
     "metadata": {},
     "output_type": "execute_result"
    }
   ],
   "source": [
    "df[\"model\"].value_counts()[:10]"
   ]
  },
  {
   "cell_type": "code",
   "execution_count": 20,
   "metadata": {},
   "outputs": [
    {
     "data": {
      "text/plain": [
       "iOS 14.2      397663\n",
       "iOS 14.1       67732\n",
       "iOS 14.0.1     37694\n",
       "iOS 13.7       24836\n",
       "iOS 14.0       24024\n",
       "iOS 13.6.1     15127\n",
       "iOS 12.4.9     13917\n",
       "iOS 14.2.1     13537\n",
       "iOS 13.5.1     13296\n",
       "iOS 13.6       11859\n",
       "Name: operating_system, dtype: int64"
      ]
     },
     "execution_count": 20,
     "metadata": {},
     "output_type": "execute_result"
    }
   ],
   "source": [
    "df[\"operating_system\"].value_counts()[:10]"
   ]
  },
  {
   "cell_type": "code",
   "execution_count": 21,
   "metadata": {},
   "outputs": [
    {
     "data": {
      "text/plain": [
       "banner_impression          305828\n",
       "level_event                267767\n",
       "interstitial_impression     86353\n",
       "rewarded_impression          4521\n",
       "Name: eventType, dtype: int64"
      ]
     },
     "execution_count": 21,
     "metadata": {},
     "output_type": "execute_result"
    }
   ],
   "source": [
    "df[\"eventType\"].value_counts()[:10]"
   ]
  },
  {
   "cell_type": "markdown",
   "metadata": {},
   "source": [
    "Rewarded ads bring more revenue than interstitials, as expected."
   ]
  },
  {
   "cell_type": "code",
   "execution_count": 22,
   "metadata": {},
   "outputs": [
    {
     "name": "stdout",
     "output_type": "stream",
     "text": [
      "Revenues for interstitial_impression >> mean: 0.024 || std: 0.011\n",
      "Revenues for banner_impression >> mean: 0.0 || std: 0.0\n",
      "Revenues for level_event >> mean: 0.0 || std: 0.0\n",
      "Revenues for rewarded_impression >> mean: 0.033 || std: 0.016\n"
     ]
    }
   ],
   "source": [
    "for uniqevent in df[\"eventType\"].unique():\n",
    "    print(\"Revenues for\", uniqevent, \">> mean:\", np.round(df[df[\"eventType\"]==uniqevent][\"revenue\"].mean(),3),\\\n",
    "         \"|| std:\", np.round(df[df[\"eventType\"]==uniqevent][\"revenue\"].std(),3))"
   ]
  },
  {
   "cell_type": "code",
   "execution_count": 23,
   "metadata": {},
   "outputs": [
    {
     "data": {
      "text/html": [
       "<div>\n",
       "<style scoped>\n",
       "    .dataframe tbody tr th:only-of-type {\n",
       "        vertical-align: middle;\n",
       "    }\n",
       "\n",
       "    .dataframe tbody tr th {\n",
       "        vertical-align: top;\n",
       "    }\n",
       "\n",
       "    .dataframe thead th {\n",
       "        text-align: right;\n",
       "    }\n",
       "</style>\n",
       "<table border=\"1\" class=\"dataframe\">\n",
       "  <thead>\n",
       "    <tr style=\"text-align: right;\">\n",
       "      <th></th>\n",
       "      <th>userID_anonymized</th>\n",
       "      <th>model</th>\n",
       "      <th>operating_system</th>\n",
       "      <th>wifi_state</th>\n",
       "      <th>session_no</th>\n",
       "      <th>event_delay</th>\n",
       "      <th>eventType</th>\n",
       "      <th>duration</th>\n",
       "      <th>level</th>\n",
       "      <th>progress</th>\n",
       "      <th>play_count</th>\n",
       "      <th>status</th>\n",
       "      <th>revenue</th>\n",
       "      <th>totalrevenue</th>\n",
       "    </tr>\n",
       "  </thead>\n",
       "  <tbody>\n",
       "    <tr>\n",
       "      <th>4</th>\n",
       "      <td>be725f9b-33c5</td>\n",
       "      <td>iPhone12,1</td>\n",
       "      <td>iOS 14.0.1</td>\n",
       "      <td>1</td>\n",
       "      <td>1</td>\n",
       "      <td>1.0</td>\n",
       "      <td>interstitial_impression</td>\n",
       "      <td>0.000000e+00</td>\n",
       "      <td>0</td>\n",
       "      <td>0</td>\n",
       "      <td>0</td>\n",
       "      <td>0</td>\n",
       "      <td>0.03500</td>\n",
       "      <td>0.036200</td>\n",
       "    </tr>\n",
       "    <tr>\n",
       "      <th>5</th>\n",
       "      <td>dd5ef583-258b</td>\n",
       "      <td>iPhone12,1</td>\n",
       "      <td>iOS 14.2</td>\n",
       "      <td>0</td>\n",
       "      <td>13</td>\n",
       "      <td>195.0</td>\n",
       "      <td>banner_impression</td>\n",
       "      <td>0.000000e+00</td>\n",
       "      <td>0</td>\n",
       "      <td>0</td>\n",
       "      <td>0</td>\n",
       "      <td>0</td>\n",
       "      <td>0.00030</td>\n",
       "      <td>0.460578</td>\n",
       "    </tr>\n",
       "    <tr>\n",
       "      <th>6</th>\n",
       "      <td>be725f9b-33c5</td>\n",
       "      <td>iPhone12,1</td>\n",
       "      <td>iOS 14.0.1</td>\n",
       "      <td>1</td>\n",
       "      <td>1</td>\n",
       "      <td>2.0</td>\n",
       "      <td>level_event</td>\n",
       "      <td>1.606707e+09</td>\n",
       "      <td>25</td>\n",
       "      <td>10</td>\n",
       "      <td>10</td>\n",
       "      <td>1</td>\n",
       "      <td>0.00000</td>\n",
       "      <td>0.036200</td>\n",
       "    </tr>\n",
       "    <tr>\n",
       "      <th>7</th>\n",
       "      <td>fb8331dd-f7f7</td>\n",
       "      <td>iPhone11,8</td>\n",
       "      <td>iOS 14.2</td>\n",
       "      <td>1</td>\n",
       "      <td>3</td>\n",
       "      <td>45.0</td>\n",
       "      <td>banner_impression</td>\n",
       "      <td>0.000000e+00</td>\n",
       "      <td>0</td>\n",
       "      <td>0</td>\n",
       "      <td>0</td>\n",
       "      <td>0</td>\n",
       "      <td>0.00030</td>\n",
       "      <td>1.161082</td>\n",
       "    </tr>\n",
       "    <tr>\n",
       "      <th>8</th>\n",
       "      <td>64dea955-8f14</td>\n",
       "      <td>iPhone11,6</td>\n",
       "      <td>iOS 14.2</td>\n",
       "      <td>1</td>\n",
       "      <td>1</td>\n",
       "      <td>3.0</td>\n",
       "      <td>banner_impression</td>\n",
       "      <td>0.000000e+00</td>\n",
       "      <td>0</td>\n",
       "      <td>0</td>\n",
       "      <td>0</td>\n",
       "      <td>0</td>\n",
       "      <td>0.00015</td>\n",
       "      <td>0.408266</td>\n",
       "    </tr>\n",
       "  </tbody>\n",
       "</table>\n",
       "</div>"
      ],
      "text/plain": [
       "  userID_anonymized       model operating_system  wifi_state  session_no  \\\n",
       "4     be725f9b-33c5  iPhone12,1       iOS 14.0.1           1           1   \n",
       "5     dd5ef583-258b  iPhone12,1         iOS 14.2           0          13   \n",
       "6     be725f9b-33c5  iPhone12,1       iOS 14.0.1           1           1   \n",
       "7     fb8331dd-f7f7  iPhone11,8         iOS 14.2           1           3   \n",
       "8     64dea955-8f14  iPhone11,6         iOS 14.2           1           1   \n",
       "\n",
       "   event_delay                eventType      duration  level  progress  \\\n",
       "4          1.0  interstitial_impression  0.000000e+00      0         0   \n",
       "5        195.0        banner_impression  0.000000e+00      0         0   \n",
       "6          2.0              level_event  1.606707e+09     25        10   \n",
       "7         45.0        banner_impression  0.000000e+00      0         0   \n",
       "8          3.0        banner_impression  0.000000e+00      0         0   \n",
       "\n",
       "   play_count  status  revenue  totalrevenue  \n",
       "4           0       0  0.03500      0.036200  \n",
       "5           0       0  0.00030      0.460578  \n",
       "6          10       1  0.00000      0.036200  \n",
       "7           0       0  0.00030      1.161082  \n",
       "8           0       0  0.00015      0.408266  "
      ]
     },
     "execution_count": 23,
     "metadata": {},
     "output_type": "execute_result"
    }
   ],
   "source": [
    "df.head()"
   ]
  },
  {
   "cell_type": "markdown",
   "metadata": {},
   "source": [
    "## Saving pre-processed time-series data"
   ]
  },
  {
   "cell_type": "code",
   "execution_count": 24,
   "metadata": {},
   "outputs": [],
   "source": [
    "df.to_csv('preprocessed_ts.csv', index=False) "
   ]
  }
 ],
 "metadata": {
  "kernelspec": {
   "display_name": "anadolu",
   "language": "python",
   "name": "anadolu"
  },
  "language_info": {
   "codemirror_mode": {
    "name": "ipython",
    "version": 3
   },
   "file_extension": ".py",
   "mimetype": "text/x-python",
   "name": "python",
   "nbconvert_exporter": "python",
   "pygments_lexer": "ipython3",
   "version": "3.7.9"
  }
 },
 "nbformat": 4,
 "nbformat_minor": 4
}
