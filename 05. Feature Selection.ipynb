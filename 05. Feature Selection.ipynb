{
 "cells": [
  {
   "cell_type": "markdown",
   "metadata": {},
   "source": [
    "## Importing necessary libs"
   ]
  },
  {
   "cell_type": "code",
   "execution_count": 1,
   "metadata": {},
   "outputs": [],
   "source": [
    "import pandas as pd\n",
    "import numpy as np\n",
    "from sklearn.model_selection import train_test_split, cross_val_score\n",
    "\n",
    "from catboost import CatBoostRegressor\n",
    "from sklearn.model_selection import KFold\n",
    "\n",
    "import matplotlib.pyplot as plt\n",
    "import seaborn as sns"
   ]
  },
  {
   "cell_type": "markdown",
   "metadata": {},
   "source": [
    "## Preparing features and labels"
   ]
  },
  {
   "cell_type": "code",
   "execution_count": 2,
   "metadata": {},
   "outputs": [],
   "source": [
    "df = pd.read_csv(\"fe_data.csv\")\n",
    "df = df.drop(\"userID_anonymized\", 1) # since it's not a feature and we need number indexes in CV\n",
    "\n",
    "## Setting categorical columns\n",
    "df[\"model\"] = df[\"model\"].astype(\"category\")\n",
    "df[\"operating_system\"] = df[\"operating_system\"].astype(\"category\")\n",
    "\n",
    "Xs = df.drop(\"totalrevenue\", 1) # extracting label\n",
    "ys = df[\"totalrevenue\"] # defining label"
   ]
  },
  {
   "cell_type": "code",
   "execution_count": 3,
   "metadata": {},
   "outputs": [
    {
     "data": {
      "text/html": [
       "<div>\n",
       "<style scoped>\n",
       "    .dataframe tbody tr th:only-of-type {\n",
       "        vertical-align: middle;\n",
       "    }\n",
       "\n",
       "    .dataframe tbody tr th {\n",
       "        vertical-align: top;\n",
       "    }\n",
       "\n",
       "    .dataframe thead th {\n",
       "        text-align: right;\n",
       "    }\n",
       "</style>\n",
       "<table border=\"1\" class=\"dataframe\">\n",
       "  <thead>\n",
       "    <tr style=\"text-align: right;\">\n",
       "      <th></th>\n",
       "      <th>mean_revenue_banner_impression</th>\n",
       "      <th>mean_revenue_interstitial_impression</th>\n",
       "      <th>mean_revenue_level_event</th>\n",
       "      <th>mean_revenue_rewarded_impression</th>\n",
       "      <th>std_revenue_banner_impression</th>\n",
       "      <th>std_revenue_interstitial_impression</th>\n",
       "      <th>std_revenue_level_event</th>\n",
       "      <th>std_revenue_rewarded_impression</th>\n",
       "      <th>total_count_banner_impression</th>\n",
       "      <th>total_count_interstitial_impression</th>\n",
       "      <th>...</th>\n",
       "      <th>total_count_rewarded_impression</th>\n",
       "      <th>last_time_banner_impression</th>\n",
       "      <th>last_time_interstitial_impression</th>\n",
       "      <th>last_time_level_event</th>\n",
       "      <th>last_time_rewarded_impression</th>\n",
       "      <th>model</th>\n",
       "      <th>operating_system</th>\n",
       "      <th>mean_wifi_state</th>\n",
       "      <th>last_session_no</th>\n",
       "      <th>last_level</th>\n",
       "    </tr>\n",
       "  </thead>\n",
       "  <tbody>\n",
       "    <tr>\n",
       "      <th>0</th>\n",
       "      <td>0.000400</td>\n",
       "      <td>0.030000</td>\n",
       "      <td>0.0</td>\n",
       "      <td>0.00</td>\n",
       "      <td>0.000000</td>\n",
       "      <td>0.000000</td>\n",
       "      <td>0.0</td>\n",
       "      <td>0.0</td>\n",
       "      <td>6</td>\n",
       "      <td>1</td>\n",
       "      <td>...</td>\n",
       "      <td>0</td>\n",
       "      <td>13.0</td>\n",
       "      <td>2.0</td>\n",
       "      <td>14.0</td>\n",
       "      <td>0.0</td>\n",
       "      <td>iPhone8,2</td>\n",
       "      <td>iOS 14.0.1</td>\n",
       "      <td>1.000000</td>\n",
       "      <td>3</td>\n",
       "      <td>65</td>\n",
       "    </tr>\n",
       "    <tr>\n",
       "      <th>1</th>\n",
       "      <td>0.000375</td>\n",
       "      <td>0.030000</td>\n",
       "      <td>0.0</td>\n",
       "      <td>0.00</td>\n",
       "      <td>0.000318</td>\n",
       "      <td>0.000000</td>\n",
       "      <td>0.0</td>\n",
       "      <td>0.0</td>\n",
       "      <td>2</td>\n",
       "      <td>1</td>\n",
       "      <td>...</td>\n",
       "      <td>0</td>\n",
       "      <td>0.0</td>\n",
       "      <td>0.0</td>\n",
       "      <td>0.0</td>\n",
       "      <td>0.0</td>\n",
       "      <td>iPhone12,1</td>\n",
       "      <td>iOS 14.2</td>\n",
       "      <td>1.000000</td>\n",
       "      <td>1</td>\n",
       "      <td>4</td>\n",
       "    </tr>\n",
       "    <tr>\n",
       "      <th>2</th>\n",
       "      <td>0.000669</td>\n",
       "      <td>0.027517</td>\n",
       "      <td>0.0</td>\n",
       "      <td>0.04</td>\n",
       "      <td>0.000962</td>\n",
       "      <td>0.005541</td>\n",
       "      <td>0.0</td>\n",
       "      <td>0.0</td>\n",
       "      <td>118</td>\n",
       "      <td>30</td>\n",
       "      <td>...</td>\n",
       "      <td>2</td>\n",
       "      <td>4078.0</td>\n",
       "      <td>4076.0</td>\n",
       "      <td>4078.0</td>\n",
       "      <td>1621.0</td>\n",
       "      <td>iPhone12,8</td>\n",
       "      <td>iOS 14.1</td>\n",
       "      <td>0.814159</td>\n",
       "      <td>8</td>\n",
       "      <td>1004</td>\n",
       "    </tr>\n",
       "    <tr>\n",
       "      <th>3</th>\n",
       "      <td>0.000416</td>\n",
       "      <td>0.022920</td>\n",
       "      <td>0.0</td>\n",
       "      <td>0.04</td>\n",
       "      <td>0.000184</td>\n",
       "      <td>0.005129</td>\n",
       "      <td>0.0</td>\n",
       "      <td>0.0</td>\n",
       "      <td>82</td>\n",
       "      <td>25</td>\n",
       "      <td>...</td>\n",
       "      <td>1</td>\n",
       "      <td>5137.0</td>\n",
       "      <td>5136.0</td>\n",
       "      <td>5137.0</td>\n",
       "      <td>763.0</td>\n",
       "      <td>iPhone9,3</td>\n",
       "      <td>iOS 13.7</td>\n",
       "      <td>1.000000</td>\n",
       "      <td>5</td>\n",
       "      <td>1003</td>\n",
       "    </tr>\n",
       "    <tr>\n",
       "      <th>4</th>\n",
       "      <td>0.000537</td>\n",
       "      <td>0.030000</td>\n",
       "      <td>0.0</td>\n",
       "      <td>0.00</td>\n",
       "      <td>0.000096</td>\n",
       "      <td>0.003536</td>\n",
       "      <td>0.0</td>\n",
       "      <td>0.0</td>\n",
       "      <td>16</td>\n",
       "      <td>5</td>\n",
       "      <td>...</td>\n",
       "      <td>0</td>\n",
       "      <td>2368.0</td>\n",
       "      <td>2035.0</td>\n",
       "      <td>2369.0</td>\n",
       "      <td>0.0</td>\n",
       "      <td>iPhone10,2</td>\n",
       "      <td>iOS 14.2</td>\n",
       "      <td>1.000000</td>\n",
       "      <td>4</td>\n",
       "      <td>67</td>\n",
       "    </tr>\n",
       "  </tbody>\n",
       "</table>\n",
       "<p>5 rows × 21 columns</p>\n",
       "</div>"
      ],
      "text/plain": [
       "   mean_revenue_banner_impression  mean_revenue_interstitial_impression  \\\n",
       "0                        0.000400                              0.030000   \n",
       "1                        0.000375                              0.030000   \n",
       "2                        0.000669                              0.027517   \n",
       "3                        0.000416                              0.022920   \n",
       "4                        0.000537                              0.030000   \n",
       "\n",
       "   mean_revenue_level_event  mean_revenue_rewarded_impression  \\\n",
       "0                       0.0                              0.00   \n",
       "1                       0.0                              0.00   \n",
       "2                       0.0                              0.04   \n",
       "3                       0.0                              0.04   \n",
       "4                       0.0                              0.00   \n",
       "\n",
       "   std_revenue_banner_impression  std_revenue_interstitial_impression  \\\n",
       "0                       0.000000                             0.000000   \n",
       "1                       0.000318                             0.000000   \n",
       "2                       0.000962                             0.005541   \n",
       "3                       0.000184                             0.005129   \n",
       "4                       0.000096                             0.003536   \n",
       "\n",
       "   std_revenue_level_event  std_revenue_rewarded_impression  \\\n",
       "0                      0.0                              0.0   \n",
       "1                      0.0                              0.0   \n",
       "2                      0.0                              0.0   \n",
       "3                      0.0                              0.0   \n",
       "4                      0.0                              0.0   \n",
       "\n",
       "   total_count_banner_impression  total_count_interstitial_impression  ...  \\\n",
       "0                              6                                    1  ...   \n",
       "1                              2                                    1  ...   \n",
       "2                            118                                   30  ...   \n",
       "3                             82                                   25  ...   \n",
       "4                             16                                    5  ...   \n",
       "\n",
       "   total_count_rewarded_impression  last_time_banner_impression  \\\n",
       "0                                0                         13.0   \n",
       "1                                0                          0.0   \n",
       "2                                2                       4078.0   \n",
       "3                                1                       5137.0   \n",
       "4                                0                       2368.0   \n",
       "\n",
       "   last_time_interstitial_impression  last_time_level_event  \\\n",
       "0                                2.0                   14.0   \n",
       "1                                0.0                    0.0   \n",
       "2                             4076.0                 4078.0   \n",
       "3                             5136.0                 5137.0   \n",
       "4                             2035.0                 2369.0   \n",
       "\n",
       "   last_time_rewarded_impression       model operating_system mean_wifi_state  \\\n",
       "0                            0.0   iPhone8,2       iOS 14.0.1        1.000000   \n",
       "1                            0.0  iPhone12,1         iOS 14.2        1.000000   \n",
       "2                         1621.0  iPhone12,8         iOS 14.1        0.814159   \n",
       "3                          763.0   iPhone9,3         iOS 13.7        1.000000   \n",
       "4                            0.0  iPhone10,2         iOS 14.2        1.000000   \n",
       "\n",
       "   last_session_no  last_level  \n",
       "0                3          65  \n",
       "1                1           4  \n",
       "2                8        1004  \n",
       "3                5        1003  \n",
       "4                4          67  \n",
       "\n",
       "[5 rows x 21 columns]"
      ]
     },
     "execution_count": 3,
     "metadata": {},
     "output_type": "execute_result"
    }
   ],
   "source": [
    "Xs.head()"
   ]
  },
  {
   "cell_type": "code",
   "execution_count": 4,
   "metadata": {},
   "outputs": [
    {
     "data": {
      "text/plain": [
       "0    0.032400\n",
       "1    0.030750\n",
       "2    1.211006\n",
       "3    0.881707\n",
       "4    0.184700\n",
       "Name: totalrevenue, dtype: float64"
      ]
     },
     "execution_count": 4,
     "metadata": {},
     "output_type": "execute_result"
    }
   ],
   "source": [
    "ys.head()"
   ]
  },
  {
   "cell_type": "markdown",
   "metadata": {},
   "source": [
    "## Train-Test Splitting "
   ]
  },
  {
   "cell_type": "code",
   "execution_count": 5,
   "metadata": {},
   "outputs": [],
   "source": [
    "X_train, X_test, y_train, y_test = train_test_split(Xs, ys, test_size=0.2, random_state=1773)"
   ]
  },
  {
   "cell_type": "markdown",
   "metadata": {},
   "source": [
    "## Defining the Regressor"
   ]
  },
  {
   "cell_type": "code",
   "execution_count": 6,
   "metadata": {},
   "outputs": [],
   "source": [
    "params = {'bootstrap_type': 'Bernoulli',\n",
    " 'colsample_bylevel': 0.85,\n",
    " 'depth': 4,\n",
    " 'eval_metric': 'MAPE',\n",
    " 'fold_len_multiplier': 1.5250180256158454,\n",
    " 'grow_policy': 'Lossguide',\n",
    " 'l2_leaf_reg': 6.827754494022499,\n",
    " 'leaf_estimation_backtracking': 'No',\n",
    " 'learning_rate': 0.0864786151724121,\n",
    " 'max_leaves': 30,\n",
    " 'min_data_in_leaf': 38,\n",
    " 'random_strength': 0.005797093316392755}\n",
    "\n",
    "clf = CatBoostRegressor(**params,\n",
    "                        cat_features=[16,17],\n",
    "                        objective=\"MAPE\",\n",
    "                        task_type=\"CPU\")"
   ]
  },
  {
   "cell_type": "markdown",
   "metadata": {},
   "source": [
    "## Predicting with K-Fold CV"
   ]
  },
  {
   "cell_type": "code",
   "execution_count": 7,
   "metadata": {},
   "outputs": [
    {
     "name": "stdout",
     "output_type": "stream",
     "text": [
      "RESULTS >> Fold 1 || MAE: 0.079 || MAPE: 0.344\n",
      "RESULTS >> Fold 2 || MAE: 0.088 || MAPE: 0.296\n",
      "RESULTS >> Fold 3 || MAE: 0.085 || MAPE: 0.293\n",
      "RESULTS >> Fold 4 || MAE: 0.087 || MAPE: 0.288\n",
      "RESULTS >> Fold 5 || MAE: 0.08 || MAPE: 0.548\n"
     ]
    }
   ],
   "source": [
    "cv = KFold(n_splits=5, random_state=1773, shuffle=True)\n",
    "\n",
    "preds_for_subm = []\n",
    "\n",
    "mae_scores = []\n",
    "mape_scores = []\n",
    "feat_imps = []\n",
    "\n",
    "for fold_id, (train_ix, test_ix) in enumerate(cv.split(X_train, y=y_train)):\n",
    "\n",
    "    train_X, val_X = X_train.iloc[train_ix], X_train.iloc[test_ix]\n",
    "    train_y, val_y = y_train.iloc[train_ix], y_train.iloc[test_ix]\n",
    "    \n",
    "    clf.fit(train_X, train_y, eval_set=(val_X, val_y), early_stopping_rounds=150, verbose=False)\n",
    "    yhat = clf.predict(val_X)\n",
    "    \n",
    "    mae = abs(val_y - yhat).mean()\n",
    "    mae_scores.append(mae)\n",
    "    \n",
    "    mape = (abs(val_y - yhat)/val_y).mean()\n",
    "    mape_scores.append(mape)    \n",
    "    \n",
    "    yhat_subm = clf.predict(X_test)\n",
    "    preds_for_subm.append(yhat_subm)\n",
    "    \n",
    "    feat_imps.append(clf.get_feature_importance())\n",
    "    \n",
    "    print('RESULTS >> Fold', fold_id+1, \"|| MAE:\", np.round(mae,3), \"|| MAPE:\", np.round(mape,3))"
   ]
  },
  {
   "cell_type": "markdown",
   "metadata": {},
   "source": [
    "### CV Results"
   ]
  },
  {
   "cell_type": "code",
   "execution_count": 8,
   "metadata": {},
   "outputs": [
    {
     "name": "stdout",
     "output_type": "stream",
     "text": [
      "Mean MAE: 0.084, Standard Deviation: 0.004\n",
      "Mean MAPE: 0.354, Standard Deviation: 0.099\n"
     ]
    }
   ],
   "source": [
    "mean_mae, std_mae = np.mean(mae_scores), np.std(mae_scores)\n",
    "print('Mean MAE: %.3f, Standard Deviation: %.3f' % (mean_mae, std_mae))\n",
    "\n",
    "mean_mape, std_mape = np.mean(mape_scores), np.std(mape_scores)\n",
    "print('Mean MAPE: %.3f, Standard Deviation: %.3f' % (mean_mape, std_mape))"
   ]
  },
  {
   "cell_type": "markdown",
   "metadata": {},
   "source": [
    "# Test Set Scores"
   ]
  },
  {
   "cell_type": "code",
   "execution_count": 9,
   "metadata": {},
   "outputs": [],
   "source": [
    "preds_for_subm_arr = np.array(preds_for_subm)\n",
    "preds_for_subm_arr = preds_for_subm_arr.mean(axis=0)"
   ]
  },
  {
   "cell_type": "code",
   "execution_count": 10,
   "metadata": {},
   "outputs": [
    {
     "name": "stdout",
     "output_type": "stream",
     "text": [
      "Test MAE: 0.083\n",
      "Test MAPE: 0.215\n",
      "\n",
      "Test MAE-std: 0.183\n",
      "Test MAPE-std: 0.587\n"
     ]
    }
   ],
   "source": [
    "print(\"Test MAE:\", np.round(abs(y_test - preds_for_subm_arr).mean(),3))\n",
    "print(\"Test MAPE:\", np.round((abs(y_test - preds_for_subm_arr)/y_test).mean(),3))\n",
    "print()\n",
    "print(\"Test MAE-std:\", np.round(abs(y_test - preds_for_subm_arr).std(),3))\n",
    "print(\"Test MAPE-std:\", np.round((abs(y_test - preds_for_subm_arr)/y_test).std(),3))"
   ]
  },
  {
   "cell_type": "markdown",
   "metadata": {},
   "source": [
    "## Feature Importances"
   ]
  },
  {
   "cell_type": "code",
   "execution_count": 11,
   "metadata": {},
   "outputs": [],
   "source": [
    "def plot_feature_importance(importance,names,model_type):\n",
    "    \n",
    "    #Create arrays from feature importance and feature names\n",
    "    feature_importance = np.array(importance)\n",
    "    feature_names = np.array(names)\n",
    "    \n",
    "    #Create a DataFrame using a Dictionary\n",
    "    data={'feature_names':feature_names,'feature_importance':feature_importance}\n",
    "    fi_df = pd.DataFrame(data)\n",
    "    \n",
    "    #Sort the DataFrame in order decreasing feature importance\n",
    "    fi_df.sort_values(by=['feature_importance'], ascending=False,inplace=True)\n",
    "    \n",
    "    #Define size of bar plot\n",
    "    plt.figure(figsize=(10,8))\n",
    "    #Plot Searborn bar chart\n",
    "    sns.barplot(x=fi_df['feature_importance'], y=fi_df['feature_names'])\n",
    "    #Add chart labels\n",
    "    plt.title(model_type + ' Feature Importances')\n",
    "    plt.xlabel('Feature Importance')\n",
    "    plt.ylabel('Feature Name')"
   ]
  },
  {
   "cell_type": "code",
   "execution_count": 12,
   "metadata": {},
   "outputs": [],
   "source": [
    "feat_imps = np.array(feat_imps)\n",
    "mean_feat_imps = feat_imps.mean(axis=0)"
   ]
  },
  {
   "cell_type": "code",
   "execution_count": 13,
   "metadata": {},
   "outputs": [
    {
     "data": {
      "image/png": "[encoded data removed]",
      "text/plain": [
       "<Figure size 720x576 with 1 Axes>"
      ]
     },
     "metadata": {
      "needs_background": "light"
     },
     "output_type": "display_data"
    }
   ],
   "source": [
    "plot_feature_importance(mean_feat_imps,X_train.columns,'Catboost Regressor')"
   ]
  },
  {
   "cell_type": "markdown",
   "metadata": {},
   "source": [
    "## Prune the data (only important features)"
   ]
  },
  {
   "cell_type": "code",
   "execution_count": 14,
   "metadata": {},
   "outputs": [],
   "source": [
    "df = df[[\"total_count_interstitial_impression\",\"total_count_banner_impression\",\"total_count_rewarded_impression\",\\\n",
    "         \"total_count_level_event\", \"mean_revenue_interstitial_impression\", \"last_time_interstitial_impression\",\\\n",
    "         \"mean_revenue_rewarded_impression\", \"last_time_banner_impression\", \"totalrevenue\"]]\n",
    "\n",
    "df.to_csv('pruned_df.csv', index=False) "
   ]
  }
 ],
 "metadata": {
  "kernelspec": {
   "display_name": "anadolu",
   "language": "python",
   "name": "anadolu"
  },
  "language_info": {
   "codemirror_mode": {
    "name": "ipython",
    "version": 3
   },
   "file_extension": ".py",
   "mimetype": "text/x-python",
   "name": "python",
   "nbconvert_exporter": "python",
   "pygments_lexer": "ipython3",
   "version": "3.7.9"
  }
 },
 "nbformat": 4,
 "nbformat_minor": 4
}
